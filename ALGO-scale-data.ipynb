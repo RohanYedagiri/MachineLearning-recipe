{
 "cells": [
  {
   "cell_type": "markdown",
   "metadata": {},
   "source": [
    "# Scale Machine Learning Data\n",
    "Many machine learning algorithms expect data to be scaled consistently. There are two popular\n",
    "methods that you should consider when scaling your data for machine learning.\n",
    "\n",
    "- How to normalize your data from scratch.\n",
    "- How to standardize your data from scratch.\n",
    "- When to normalize as opposed to standardize data.\n",
    "\n",
    "Many machine learning algorithms expect the scale of the input and even the output data to be\n",
    "equivalent. \n",
    "\n",
    "It can help in methods that weight inputs in order to make a prediction, such as\n",
    "in linear regression and logistic regression. \n",
    "\n",
    "It is practically required in methods that combine\n",
    "weighted inputs in complex ways such as in artificial neural networks and deep learning.\n"
   ]
  },
  {
   "cell_type": "markdown",
   "metadata": {},
   "source": [
    "# Normalize Data\n",
    "- Normalization can refer to different techniques depending on context. Here, we use normalization to refer to rescaling an input variable to the range between 0 and 1.\n",
    "- Normalization requires that you know the minimum and maximum values for each attribute."
   ]
  },
  {
   "cell_type": "markdown",
   "metadata": {},
   "source": [
    "http://scikit-learn.org/stable/modules/preprocessing.html#normalization"
   ]
  },
  {
   "cell_type": "markdown",
   "metadata": {},
   "source": [
    "# Standardize Data\n",
    "\n",
    "- Standardization is a rescaling technique that refers to centering the distribution of the data on the value 0 and the standard deviation to the value 1.\n",
    "- Together, the mean and the standard deviation can be used to summarize a normal distribution, also called the Gaussian distribution or bell curve.\n",
    "- It requires that the mean and standard deviation of the values for each column be known prior to scaling. As with normalizing above, we can estimate these values from training data, or use domain knowledge to specify their values.\n",
    "\n",
    "http://scikit-learn.org/stable/modules/preprocessing.html#standardization-or-mean-removal-and-variance-scaling\n",
    "\n",
    "http://www.faqs.org/faqs/ai-faq/neural-nets/part2/section-16.html"
   ]
  },
  {
   "cell_type": "markdown",
   "metadata": {},
   "source": [
    "# When to Normalize and Standardize\n",
    "\n",
    "- Standardization is a scaling technique that assumes your data conforms to a normal distribution. If a given data attribute is normal or close to normal, this is probably the scaling method to use.\n",
    "- Normalization is a scaling technique that does not assume any specific distribution.\n",
    "- If your data is not normally distributed, consider normalizing it prior to applying your machine learning algorithm."
   ]
  },
  {
   "cell_type": "code",
   "execution_count": null,
   "metadata": {
    "collapsed": true
   },
   "outputs": [],
   "source": []
  }
 ],
 "metadata": {
  "kernelspec": {
   "display_name": "Python 3",
   "language": "python",
   "name": "python3"
  },
  "language_info": {
   "codemirror_mode": {
    "name": "ipython",
    "version": 3
   },
   "file_extension": ".py",
   "mimetype": "text/x-python",
   "name": "python",
   "nbconvert_exporter": "python",
   "pygments_lexer": "ipython3",
   "version": "3.6.3"
  }
 },
 "nbformat": 4,
 "nbformat_minor": 2
}
