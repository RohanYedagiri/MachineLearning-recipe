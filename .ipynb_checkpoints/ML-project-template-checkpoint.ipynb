{
 "cells": [
  {
   "cell_type": "markdown",
   "metadata": {},
   "source": [
    "# Predictive Modeling Project Template\n",
    "1. How to structure an end-to-end predictive modeling project.\n",
    "2. How to map the tasks you learned about in Part II onto a project.\n",
    "3. How to best use the structured project template to ensure an accurate result for your dataset.\n",
    "\n",
    "## Use A Structured Step-By-Step Process\n",
    "Any predictive modeling machine learning project can be broken down into six common tasks:\n",
    "1. Define Problem.\n",
    "2. Summarize Data.\n",
    "3. Prepare Data.\n",
    "4. Evaluate Algorithms.\n",
    "5. Improve Results.\n",
    "6. Present Results."
   ]
  },
  {
   "cell_type": "markdown",
   "metadata": {},
   "source": [
    "# Template Summary\n",
    "Python Project Template\n",
    "\n",
    " 1. Prepare Problem\n",
    "     - Load libraries\n",
    "     - Load dataset\n",
    " 2. Summarize Data\n",
    "     - Descriptive statistics\n",
    "     - Data visualizations\n",
    " 3. Prepare Data\n",
    "     - Data Cleaning\n",
    "     - Feature Selection\n",
    "     - Data Transforms\n",
    " 4. Evaluate Algorithms\n",
    "     - Split-out validation dataset\n",
    "     - Test options and evaluation metric\n",
    "     - Spot Check Algorithms\n",
    "     - Compare Algorithms\n",
    " 5. Improve Accuracy\n",
    "     - Algorithm Tuning\n",
    "     - Ensembles\n",
    " 6. Finalize Model\n",
    "     - Predictions on validation dataset\n",
    "     - Create standalone model on entire training dataset\n",
    "     - Save model for later use"
   ]
  },
  {
   "cell_type": "markdown",
   "metadata": {},
   "source": [
    "## 1. Prepare Problem\n",
    "- Python modules, classes and functions that you intend to use.\n",
    "- Loading your dataset from CSV.\n",
    "\n",
    "It is also the place\n",
    "where you might need to make a reduced sample of your dataset if it is too large to work with.\n",
    "Ideally, your dataset should be small enough to build a model or create a visualization within a\n",
    "minute, ideally 30 seconds. You can always scale up well performing models later."
   ]
  },
  {
   "cell_type": "markdown",
   "metadata": {},
   "source": [
    "## 2. Summarize Data\n",
    "This step is about better understanding the data that you have available. This includes\n",
    "understanding your data using:\n",
    "\n",
    "-  Descriptive statistics such as summaries.\n",
    "- Data visualizations such as plots with Matplotlib, ideally using convenience functions from\n",
    "\n",
    "Pandas.\n",
    "Take your time and use the results to prompt a lot of questions, assumptions and hypotheses\n",
    "that you can investigate later with specialized models."
   ]
  },
  {
   "cell_type": "markdown",
   "metadata": {},
   "source": [
    "## 3. Prepare Data\n",
    "This step is about preparing the data in such a way that it best exposes the structure of the\n",
    "problem and the relationships between your input attributes with the output variable. This\n",
    "includes tasks such as:\n",
    "\n",
    "- Cleaning data by removing duplicates, marking missing values and even imputing missing values.\n",
    "- Feature selection where redundant features may be removed and new features developed.\n",
    "- Data transforms where attributes are scaled or redistributed in order to best expose the structure of the problem later to learning algorithms.\n",
    "\n",
    "Start simple. Revisit this step often and cycle with the next step until you converge on a\n",
    "subset of algorithms and a presentation of the data that results in accurate or accurate-enough\n",
    "models to proceed."
   ]
  },
  {
   "cell_type": "markdown",
   "metadata": {},
   "source": [
    "## 4. Evaluate Algorithms\n",
    "\n",
    "This step is about finding a subset of machine learning algorithms that are good at exploiting\n",
    "the structure of your data (e.g. have better than average skill). This involves steps such as:\n",
    "\n",
    "- Separating out a validation dataset to use for later confirmation of the skill of your developed model.\n",
    "- Defining test options using scikit-learn such as cross validation and the evaluation metric to use.\n",
    "- Spot-checking a suite of linear and nonlinear machine learning algorithms.\n",
    "- Comparing the estimated accuracy of algorithms.\n",
    "\n",
    "On a given problem you will likely spend most of your time on this and the previous step\n",
    "until you converge on a set of 3-to-5 well performing machine learning algorithms."
   ]
  },
  {
   "cell_type": "markdown",
   "metadata": {},
   "source": [
    "## 5. Improve Accuracy\n",
    "Once you have a shortlist of machine learning algorithms, you need to get the most out of them.\n",
    "There are two different ways to improve the accuracy of your models:\n",
    "\n",
    "- Search for a combination of parameters for each algorithm using scikit-learn that yields the best results.\n",
    "- Combine the prediction of multiple models into an ensemble prediction using ensemble techniques.\n",
    "\n",
    "The line between this and the previous step can blur when a project becomes concrete.\n",
    "There may be a little algorithm tuning in the previous step. And in the case of ensembles, you\n",
    "may bring more than a shortlist of algorithms forward to combine their predictions."
   ]
  },
  {
   "cell_type": "markdown",
   "metadata": {},
   "source": [
    "## 6. Finalize Model\n",
    "Once you have found a model that you believe can make accurate predictions on unseen data,\n",
    "you are ready to finalize it. Finalizing a model may involve sub-tasks such as:\n",
    "\n",
    "- Using an optimal model tuned by scikit-learn to make predictions on unseen data.\n",
    "- Creating a standalone model using the parameters tuned by scikit-learn.\n",
    "- Saving an optimal model to file for later use.\n",
    "\n",
    "Once you make it this far you are ready to present results to stakeholders and/or deploy\n",
    "your model to start making predictions on unseen data."
   ]
  },
  {
   "cell_type": "markdown",
   "metadata": {},
   "source": [
    "# Tips For Using The Template Well\n",
    "This section lists tips that you can use to make the most of the machine learning project\n",
    "template in Python.\n",
    "\n",
    "- Fast First Pass. Make a first-pass through the project steps as fast as possible. This\n",
    "   will give you confidence that you have all the parts that you need and a baseline from\n",
    "   which to improve.\n",
    "- Cycles. The process in not linear but cyclic. You will loop between steps, and probably\n",
    "   spend most of your time in tight loops between steps 3-4 or 3-4-5 until you achieve a level\n",
    "   of accuracy that is sufficient or you run out of time.\n",
    "- Attempt Every Step. It is easy to skip steps, especially if you are not con\f",
    "dent or\n",
    "   familiar with the tasks of that step. Try and do something at each step in the process,\n",
    "   even if it does not improve accuracy. You can always build upon it later. Don't skip steps,\n",
    "   just reduce their contribution.\n",
    "- Ratchet Accuracy. The goal of the project is model accuracy. Every step contributes\n",
    "   towards this goal. Treat changes that you make as experiments that increase accuracy as\n",
    "   the golden path in the process and reorganize other steps around them. Accuracy is a\n",
    "   ratchet that can only move in one direction (better, not worse).\n",
    "- Adapt As Needed. Modify the steps as you need on a project, especially as you become\n",
    "    more experienced with the template. Blur the edges of tasks, such as steps 4-5 to best\n",
    "    serve model accuracy."
   ]
  },
  {
   "cell_type": "code",
   "execution_count": null,
   "metadata": {
    "collapsed": true
   },
   "outputs": [],
   "source": []
  }
 ],
 "metadata": {
  "kernelspec": {
   "display_name": "Python 3",
   "language": "python",
   "name": "python3"
  },
  "language_info": {
   "codemirror_mode": {
    "name": "ipython",
    "version": 3
   },
   "file_extension": ".py",
   "mimetype": "text/x-python",
   "name": "python",
   "nbconvert_exporter": "python",
   "pygments_lexer": "ipython3",
   "version": "3.6.3"
  }
 },
 "nbformat": 4,
 "nbformat_minor": 2
}
