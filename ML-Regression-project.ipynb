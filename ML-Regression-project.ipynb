{
 "cells": [
  {
   "cell_type": "markdown",
   "metadata": {},
   "source": [
    "# Why gaussian assumption?\n",
    "https://stackoverflow.com/questions/12616406/anyone-can-tell-me-why-we-always-use-the-gaussian-distribution-in-machine-learni"
   ]
  },
  {
   "cell_type": "markdown",
   "metadata": {},
   "source": [
    "For this project we will investigate the Boston House Price dataset. Each record in the database\n",
    "describes a Boston suburb or town. The data was drawn from the Boston Standard Metropolitan\n",
    "Statistical Area (SMSA) in 1970. The attributes are de\f",
    "ned as follows (taken from the UCI\n",
    "Machine Learning Repository1):\n",
    "\n",
    "1. CRIM: per capita crime rate by town\n",
    "2. ZN: proportion of residential land zoned for lots over 25,000 sq.ft.\n",
    "3. INDUS: proportion of non-retail business acres per town\n",
    "4. CHAS: Charles River dummy variable (= 1 if tract bounds river; 0 otherwise)\n",
    "5. NOX: nitric oxides concentration (parts per 10 million)\n",
    "6. RM: average number of rooms per dwelling\n",
    "7. AGE: proportion of owner-occupied units built prior to 1940\n",
    "8. DIS: weighted distances to \f",
    "ve Boston employment centers\n",
    "9. RAD: index of accessibility to radial highways\n",
    "10. TAX: full-value property-tax rate per $10,000\n",
    " PTRATIO pupil-teacher ratio by town\n",
    " \n",
    " B: 1000(Bk  0:63)2 where Bk is the proportion of blacks by town\n",
    " \n",
    " LSTAT: lower status of the population\n",
    " \n",
    " MEDV: Median value of owner-occupied homes in $1000s\n",
    "\n",
    "\n",
    "We can see that the input attributes have a mixture of units."
   ]
  },
  {
   "cell_type": "code",
   "execution_count": 76,
   "metadata": {
    "collapsed": true
   },
   "outputs": [],
   "source": [
    "import pandas as pd\n",
    "import numpy as np\n",
    "import matplotlib.pyplot as plt\n",
    "import seaborn as sns\n",
    "% matplotlib inline"
   ]
  },
  {
   "cell_type": "code",
   "execution_count": 2,
   "metadata": {
    "collapsed": true
   },
   "outputs": [],
   "source": [
    "from sklearn.preprocessing import StandardScaler\n",
    "\n",
    "from sklearn.model_selection import train_test_split\n",
    "from sklearn.model_selection import KFold\n",
    "from sklearn.model_selection import cross_val_score\n",
    "from sklearn.model_selection import GridSearchCV\n",
    "\n",
    "from sklearn.linear_model import LinearRegression\n",
    "from sklearn.linear_model import Lasso\n",
    "from sklearn.linear_model import ElasticNet\n",
    "from sklearn.tree import DecisionTreeRegressor\n",
    "from sklearn.neighbors import KNeighborsRegressor\n",
    "from sklearn.svm import SVR\n",
    "\n",
    "from sklearn.pipeline import Pipeline\n",
    "\n",
    "from sklearn.ensemble import RandomForestRegressor\n",
    "from sklearn.ensemble import GradientBoostingRegressor\n",
    "from sklearn.ensemble import ExtraTreesRegressor\n",
    "from sklearn.ensemble import AdaBoostRegressor\n",
    "\n",
    "from sklearn.metrics import mean_squared_error"
   ]
  },
  {
   "cell_type": "code",
   "execution_count": 3,
   "metadata": {
    "collapsed": true
   },
   "outputs": [],
   "source": [
    "names = ['CRIM', 'ZN', 'INDUS', 'CHAS', 'NOX', 'RM', 'AGE', 'DIS', 'RAD', 'TAX', 'PTRATIO', 'B', 'LSTAT', 'MEDV']\n",
    "df = pd.read_csv('housing.data',names=names,delim_whitespace=True)\n",
    "# separate array into input and output components\n",
    "X = df.drop('MEDV',axis='columns')\n",
    "Y = df['MEDV']"
   ]
  },
  {
   "cell_type": "code",
   "execution_count": 5,
   "metadata": {},
   "outputs": [
    {
     "data": {
      "text/html": [
       "<div>\n",
       "<style>\n",
       "    .dataframe thead tr:only-child th {\n",
       "        text-align: right;\n",
       "    }\n",
       "\n",
       "    .dataframe thead th {\n",
       "        text-align: left;\n",
       "    }\n",
       "\n",
       "    .dataframe tbody tr th {\n",
       "        vertical-align: top;\n",
       "    }\n",
       "</style>\n",
       "<table border=\"1\" class=\"dataframe\">\n",
       "  <thead>\n",
       "    <tr style=\"text-align: right;\">\n",
       "      <th></th>\n",
       "      <th>CRIM</th>\n",
       "      <th>ZN</th>\n",
       "      <th>INDUS</th>\n",
       "      <th>CHAS</th>\n",
       "      <th>NOX</th>\n",
       "      <th>RM</th>\n",
       "      <th>AGE</th>\n",
       "      <th>DIS</th>\n",
       "      <th>RAD</th>\n",
       "      <th>TAX</th>\n",
       "      <th>PTRATIO</th>\n",
       "      <th>B</th>\n",
       "      <th>LSTAT</th>\n",
       "      <th>MEDV</th>\n",
       "    </tr>\n",
       "  </thead>\n",
       "  <tbody>\n",
       "    <tr>\n",
       "      <th>0</th>\n",
       "      <td>0.00632</td>\n",
       "      <td>18.0</td>\n",
       "      <td>2.31</td>\n",
       "      <td>0</td>\n",
       "      <td>0.538</td>\n",
       "      <td>6.575</td>\n",
       "      <td>65.2</td>\n",
       "      <td>4.0900</td>\n",
       "      <td>1</td>\n",
       "      <td>296.0</td>\n",
       "      <td>15.3</td>\n",
       "      <td>396.90</td>\n",
       "      <td>4.98</td>\n",
       "      <td>24.0</td>\n",
       "    </tr>\n",
       "    <tr>\n",
       "      <th>1</th>\n",
       "      <td>0.02731</td>\n",
       "      <td>0.0</td>\n",
       "      <td>7.07</td>\n",
       "      <td>0</td>\n",
       "      <td>0.469</td>\n",
       "      <td>6.421</td>\n",
       "      <td>78.9</td>\n",
       "      <td>4.9671</td>\n",
       "      <td>2</td>\n",
       "      <td>242.0</td>\n",
       "      <td>17.8</td>\n",
       "      <td>396.90</td>\n",
       "      <td>9.14</td>\n",
       "      <td>21.6</td>\n",
       "    </tr>\n",
       "    <tr>\n",
       "      <th>2</th>\n",
       "      <td>0.02729</td>\n",
       "      <td>0.0</td>\n",
       "      <td>7.07</td>\n",
       "      <td>0</td>\n",
       "      <td>0.469</td>\n",
       "      <td>7.185</td>\n",
       "      <td>61.1</td>\n",
       "      <td>4.9671</td>\n",
       "      <td>2</td>\n",
       "      <td>242.0</td>\n",
       "      <td>17.8</td>\n",
       "      <td>392.83</td>\n",
       "      <td>4.03</td>\n",
       "      <td>34.7</td>\n",
       "    </tr>\n",
       "    <tr>\n",
       "      <th>3</th>\n",
       "      <td>0.03237</td>\n",
       "      <td>0.0</td>\n",
       "      <td>2.18</td>\n",
       "      <td>0</td>\n",
       "      <td>0.458</td>\n",
       "      <td>6.998</td>\n",
       "      <td>45.8</td>\n",
       "      <td>6.0622</td>\n",
       "      <td>3</td>\n",
       "      <td>222.0</td>\n",
       "      <td>18.7</td>\n",
       "      <td>394.63</td>\n",
       "      <td>2.94</td>\n",
       "      <td>33.4</td>\n",
       "    </tr>\n",
       "    <tr>\n",
       "      <th>4</th>\n",
       "      <td>0.06905</td>\n",
       "      <td>0.0</td>\n",
       "      <td>2.18</td>\n",
       "      <td>0</td>\n",
       "      <td>0.458</td>\n",
       "      <td>7.147</td>\n",
       "      <td>54.2</td>\n",
       "      <td>6.0622</td>\n",
       "      <td>3</td>\n",
       "      <td>222.0</td>\n",
       "      <td>18.7</td>\n",
       "      <td>396.90</td>\n",
       "      <td>5.33</td>\n",
       "      <td>36.2</td>\n",
       "    </tr>\n",
       "    <tr>\n",
       "      <th>5</th>\n",
       "      <td>0.02985</td>\n",
       "      <td>0.0</td>\n",
       "      <td>2.18</td>\n",
       "      <td>0</td>\n",
       "      <td>0.458</td>\n",
       "      <td>6.430</td>\n",
       "      <td>58.7</td>\n",
       "      <td>6.0622</td>\n",
       "      <td>3</td>\n",
       "      <td>222.0</td>\n",
       "      <td>18.7</td>\n",
       "      <td>394.12</td>\n",
       "      <td>5.21</td>\n",
       "      <td>28.7</td>\n",
       "    </tr>\n",
       "    <tr>\n",
       "      <th>6</th>\n",
       "      <td>0.08829</td>\n",
       "      <td>12.5</td>\n",
       "      <td>7.87</td>\n",
       "      <td>0</td>\n",
       "      <td>0.524</td>\n",
       "      <td>6.012</td>\n",
       "      <td>66.6</td>\n",
       "      <td>5.5605</td>\n",
       "      <td>5</td>\n",
       "      <td>311.0</td>\n",
       "      <td>15.2</td>\n",
       "      <td>395.60</td>\n",
       "      <td>12.43</td>\n",
       "      <td>22.9</td>\n",
       "    </tr>\n",
       "    <tr>\n",
       "      <th>7</th>\n",
       "      <td>0.14455</td>\n",
       "      <td>12.5</td>\n",
       "      <td>7.87</td>\n",
       "      <td>0</td>\n",
       "      <td>0.524</td>\n",
       "      <td>6.172</td>\n",
       "      <td>96.1</td>\n",
       "      <td>5.9505</td>\n",
       "      <td>5</td>\n",
       "      <td>311.0</td>\n",
       "      <td>15.2</td>\n",
       "      <td>396.90</td>\n",
       "      <td>19.15</td>\n",
       "      <td>27.1</td>\n",
       "    </tr>\n",
       "    <tr>\n",
       "      <th>8</th>\n",
       "      <td>0.21124</td>\n",
       "      <td>12.5</td>\n",
       "      <td>7.87</td>\n",
       "      <td>0</td>\n",
       "      <td>0.524</td>\n",
       "      <td>5.631</td>\n",
       "      <td>100.0</td>\n",
       "      <td>6.0821</td>\n",
       "      <td>5</td>\n",
       "      <td>311.0</td>\n",
       "      <td>15.2</td>\n",
       "      <td>386.63</td>\n",
       "      <td>29.93</td>\n",
       "      <td>16.5</td>\n",
       "    </tr>\n",
       "    <tr>\n",
       "      <th>9</th>\n",
       "      <td>0.17004</td>\n",
       "      <td>12.5</td>\n",
       "      <td>7.87</td>\n",
       "      <td>0</td>\n",
       "      <td>0.524</td>\n",
       "      <td>6.004</td>\n",
       "      <td>85.9</td>\n",
       "      <td>6.5921</td>\n",
       "      <td>5</td>\n",
       "      <td>311.0</td>\n",
       "      <td>15.2</td>\n",
       "      <td>386.71</td>\n",
       "      <td>17.10</td>\n",
       "      <td>18.9</td>\n",
       "    </tr>\n",
       "    <tr>\n",
       "      <th>10</th>\n",
       "      <td>0.22489</td>\n",
       "      <td>12.5</td>\n",
       "      <td>7.87</td>\n",
       "      <td>0</td>\n",
       "      <td>0.524</td>\n",
       "      <td>6.377</td>\n",
       "      <td>94.3</td>\n",
       "      <td>6.3467</td>\n",
       "      <td>5</td>\n",
       "      <td>311.0</td>\n",
       "      <td>15.2</td>\n",
       "      <td>392.52</td>\n",
       "      <td>20.45</td>\n",
       "      <td>15.0</td>\n",
       "    </tr>\n",
       "    <tr>\n",
       "      <th>11</th>\n",
       "      <td>0.11747</td>\n",
       "      <td>12.5</td>\n",
       "      <td>7.87</td>\n",
       "      <td>0</td>\n",
       "      <td>0.524</td>\n",
       "      <td>6.009</td>\n",
       "      <td>82.9</td>\n",
       "      <td>6.2267</td>\n",
       "      <td>5</td>\n",
       "      <td>311.0</td>\n",
       "      <td>15.2</td>\n",
       "      <td>396.90</td>\n",
       "      <td>13.27</td>\n",
       "      <td>18.9</td>\n",
       "    </tr>\n",
       "    <tr>\n",
       "      <th>12</th>\n",
       "      <td>0.09378</td>\n",
       "      <td>12.5</td>\n",
       "      <td>7.87</td>\n",
       "      <td>0</td>\n",
       "      <td>0.524</td>\n",
       "      <td>5.889</td>\n",
       "      <td>39.0</td>\n",
       "      <td>5.4509</td>\n",
       "      <td>5</td>\n",
       "      <td>311.0</td>\n",
       "      <td>15.2</td>\n",
       "      <td>390.50</td>\n",
       "      <td>15.71</td>\n",
       "      <td>21.7</td>\n",
       "    </tr>\n",
       "    <tr>\n",
       "      <th>13</th>\n",
       "      <td>0.62976</td>\n",
       "      <td>0.0</td>\n",
       "      <td>8.14</td>\n",
       "      <td>0</td>\n",
       "      <td>0.538</td>\n",
       "      <td>5.949</td>\n",
       "      <td>61.8</td>\n",
       "      <td>4.7075</td>\n",
       "      <td>4</td>\n",
       "      <td>307.0</td>\n",
       "      <td>21.0</td>\n",
       "      <td>396.90</td>\n",
       "      <td>8.26</td>\n",
       "      <td>20.4</td>\n",
       "    </tr>\n",
       "    <tr>\n",
       "      <th>14</th>\n",
       "      <td>0.63796</td>\n",
       "      <td>0.0</td>\n",
       "      <td>8.14</td>\n",
       "      <td>0</td>\n",
       "      <td>0.538</td>\n",
       "      <td>6.096</td>\n",
       "      <td>84.5</td>\n",
       "      <td>4.4619</td>\n",
       "      <td>4</td>\n",
       "      <td>307.0</td>\n",
       "      <td>21.0</td>\n",
       "      <td>380.02</td>\n",
       "      <td>10.26</td>\n",
       "      <td>18.2</td>\n",
       "    </tr>\n",
       "    <tr>\n",
       "      <th>15</th>\n",
       "      <td>0.62739</td>\n",
       "      <td>0.0</td>\n",
       "      <td>8.14</td>\n",
       "      <td>0</td>\n",
       "      <td>0.538</td>\n",
       "      <td>5.834</td>\n",
       "      <td>56.5</td>\n",
       "      <td>4.4986</td>\n",
       "      <td>4</td>\n",
       "      <td>307.0</td>\n",
       "      <td>21.0</td>\n",
       "      <td>395.62</td>\n",
       "      <td>8.47</td>\n",
       "      <td>19.9</td>\n",
       "    </tr>\n",
       "    <tr>\n",
       "      <th>16</th>\n",
       "      <td>1.05393</td>\n",
       "      <td>0.0</td>\n",
       "      <td>8.14</td>\n",
       "      <td>0</td>\n",
       "      <td>0.538</td>\n",
       "      <td>5.935</td>\n",
       "      <td>29.3</td>\n",
       "      <td>4.4986</td>\n",
       "      <td>4</td>\n",
       "      <td>307.0</td>\n",
       "      <td>21.0</td>\n",
       "      <td>386.85</td>\n",
       "      <td>6.58</td>\n",
       "      <td>23.1</td>\n",
       "    </tr>\n",
       "    <tr>\n",
       "      <th>17</th>\n",
       "      <td>0.78420</td>\n",
       "      <td>0.0</td>\n",
       "      <td>8.14</td>\n",
       "      <td>0</td>\n",
       "      <td>0.538</td>\n",
       "      <td>5.990</td>\n",
       "      <td>81.7</td>\n",
       "      <td>4.2579</td>\n",
       "      <td>4</td>\n",
       "      <td>307.0</td>\n",
       "      <td>21.0</td>\n",
       "      <td>386.75</td>\n",
       "      <td>14.67</td>\n",
       "      <td>17.5</td>\n",
       "    </tr>\n",
       "    <tr>\n",
       "      <th>18</th>\n",
       "      <td>0.80271</td>\n",
       "      <td>0.0</td>\n",
       "      <td>8.14</td>\n",
       "      <td>0</td>\n",
       "      <td>0.538</td>\n",
       "      <td>5.456</td>\n",
       "      <td>36.6</td>\n",
       "      <td>3.7965</td>\n",
       "      <td>4</td>\n",
       "      <td>307.0</td>\n",
       "      <td>21.0</td>\n",
       "      <td>288.99</td>\n",
       "      <td>11.69</td>\n",
       "      <td>20.2</td>\n",
       "    </tr>\n",
       "    <tr>\n",
       "      <th>19</th>\n",
       "      <td>0.72580</td>\n",
       "      <td>0.0</td>\n",
       "      <td>8.14</td>\n",
       "      <td>0</td>\n",
       "      <td>0.538</td>\n",
       "      <td>5.727</td>\n",
       "      <td>69.5</td>\n",
       "      <td>3.7965</td>\n",
       "      <td>4</td>\n",
       "      <td>307.0</td>\n",
       "      <td>21.0</td>\n",
       "      <td>390.95</td>\n",
       "      <td>11.28</td>\n",
       "      <td>18.2</td>\n",
       "    </tr>\n",
       "  </tbody>\n",
       "</table>\n",
       "</div>"
      ],
      "text/plain": [
       "       CRIM    ZN  INDUS  CHAS    NOX     RM    AGE     DIS  RAD    TAX  \\\n",
       "0   0.00632  18.0   2.31     0  0.538  6.575   65.2  4.0900    1  296.0   \n",
       "1   0.02731   0.0   7.07     0  0.469  6.421   78.9  4.9671    2  242.0   \n",
       "2   0.02729   0.0   7.07     0  0.469  7.185   61.1  4.9671    2  242.0   \n",
       "3   0.03237   0.0   2.18     0  0.458  6.998   45.8  6.0622    3  222.0   \n",
       "4   0.06905   0.0   2.18     0  0.458  7.147   54.2  6.0622    3  222.0   \n",
       "5   0.02985   0.0   2.18     0  0.458  6.430   58.7  6.0622    3  222.0   \n",
       "6   0.08829  12.5   7.87     0  0.524  6.012   66.6  5.5605    5  311.0   \n",
       "7   0.14455  12.5   7.87     0  0.524  6.172   96.1  5.9505    5  311.0   \n",
       "8   0.21124  12.5   7.87     0  0.524  5.631  100.0  6.0821    5  311.0   \n",
       "9   0.17004  12.5   7.87     0  0.524  6.004   85.9  6.5921    5  311.0   \n",
       "10  0.22489  12.5   7.87     0  0.524  6.377   94.3  6.3467    5  311.0   \n",
       "11  0.11747  12.5   7.87     0  0.524  6.009   82.9  6.2267    5  311.0   \n",
       "12  0.09378  12.5   7.87     0  0.524  5.889   39.0  5.4509    5  311.0   \n",
       "13  0.62976   0.0   8.14     0  0.538  5.949   61.8  4.7075    4  307.0   \n",
       "14  0.63796   0.0   8.14     0  0.538  6.096   84.5  4.4619    4  307.0   \n",
       "15  0.62739   0.0   8.14     0  0.538  5.834   56.5  4.4986    4  307.0   \n",
       "16  1.05393   0.0   8.14     0  0.538  5.935   29.3  4.4986    4  307.0   \n",
       "17  0.78420   0.0   8.14     0  0.538  5.990   81.7  4.2579    4  307.0   \n",
       "18  0.80271   0.0   8.14     0  0.538  5.456   36.6  3.7965    4  307.0   \n",
       "19  0.72580   0.0   8.14     0  0.538  5.727   69.5  3.7965    4  307.0   \n",
       "\n",
       "    PTRATIO       B  LSTAT  MEDV  \n",
       "0      15.3  396.90   4.98  24.0  \n",
       "1      17.8  396.90   9.14  21.6  \n",
       "2      17.8  392.83   4.03  34.7  \n",
       "3      18.7  394.63   2.94  33.4  \n",
       "4      18.7  396.90   5.33  36.2  \n",
       "5      18.7  394.12   5.21  28.7  \n",
       "6      15.2  395.60  12.43  22.9  \n",
       "7      15.2  396.90  19.15  27.1  \n",
       "8      15.2  386.63  29.93  16.5  \n",
       "9      15.2  386.71  17.10  18.9  \n",
       "10     15.2  392.52  20.45  15.0  \n",
       "11     15.2  396.90  13.27  18.9  \n",
       "12     15.2  390.50  15.71  21.7  \n",
       "13     21.0  396.90   8.26  20.4  \n",
       "14     21.0  380.02  10.26  18.2  \n",
       "15     21.0  395.62   8.47  19.9  \n",
       "16     21.0  386.85   6.58  23.1  \n",
       "17     21.0  386.75  14.67  17.5  \n",
       "18     21.0  288.99  11.69  20.2  \n",
       "19     21.0  390.95  11.28  18.2  "
      ]
     },
     "execution_count": 5,
     "metadata": {},
     "output_type": "execute_result"
    }
   ],
   "source": [
    "df.head(20)"
   ]
  },
  {
   "cell_type": "markdown",
   "metadata": {},
   "source": [
    "We can confirm that the scales for the attributes are all over the place because of the differing\n",
    "units. We may benefit from some transforms later on."
   ]
  },
  {
   "cell_type": "code",
   "execution_count": 6,
   "metadata": {},
   "outputs": [
    {
     "data": {
      "text/html": [
       "<div>\n",
       "<style>\n",
       "    .dataframe thead tr:only-child th {\n",
       "        text-align: right;\n",
       "    }\n",
       "\n",
       "    .dataframe thead th {\n",
       "        text-align: left;\n",
       "    }\n",
       "\n",
       "    .dataframe tbody tr th {\n",
       "        vertical-align: top;\n",
       "    }\n",
       "</style>\n",
       "<table border=\"1\" class=\"dataframe\">\n",
       "  <thead>\n",
       "    <tr style=\"text-align: right;\">\n",
       "      <th></th>\n",
       "      <th>CRIM</th>\n",
       "      <th>ZN</th>\n",
       "      <th>INDUS</th>\n",
       "      <th>CHAS</th>\n",
       "      <th>NOX</th>\n",
       "      <th>RM</th>\n",
       "      <th>AGE</th>\n",
       "      <th>DIS</th>\n",
       "      <th>RAD</th>\n",
       "      <th>TAX</th>\n",
       "      <th>PTRATIO</th>\n",
       "      <th>B</th>\n",
       "      <th>LSTAT</th>\n",
       "      <th>MEDV</th>\n",
       "    </tr>\n",
       "  </thead>\n",
       "  <tbody>\n",
       "    <tr>\n",
       "      <th>count</th>\n",
       "      <td>506.000000</td>\n",
       "      <td>506.000000</td>\n",
       "      <td>506.000000</td>\n",
       "      <td>506.000000</td>\n",
       "      <td>506.000000</td>\n",
       "      <td>506.000000</td>\n",
       "      <td>506.000000</td>\n",
       "      <td>506.000000</td>\n",
       "      <td>506.000000</td>\n",
       "      <td>506.000000</td>\n",
       "      <td>506.000000</td>\n",
       "      <td>506.000000</td>\n",
       "      <td>506.000000</td>\n",
       "      <td>506.000000</td>\n",
       "    </tr>\n",
       "    <tr>\n",
       "      <th>mean</th>\n",
       "      <td>3.613524</td>\n",
       "      <td>11.363636</td>\n",
       "      <td>11.136779</td>\n",
       "      <td>0.069170</td>\n",
       "      <td>0.554695</td>\n",
       "      <td>6.284634</td>\n",
       "      <td>68.574901</td>\n",
       "      <td>3.795043</td>\n",
       "      <td>9.549407</td>\n",
       "      <td>408.237154</td>\n",
       "      <td>18.455534</td>\n",
       "      <td>356.674032</td>\n",
       "      <td>12.653063</td>\n",
       "      <td>22.532806</td>\n",
       "    </tr>\n",
       "    <tr>\n",
       "      <th>std</th>\n",
       "      <td>8.601545</td>\n",
       "      <td>23.322453</td>\n",
       "      <td>6.860353</td>\n",
       "      <td>0.253994</td>\n",
       "      <td>0.115878</td>\n",
       "      <td>0.702617</td>\n",
       "      <td>28.148861</td>\n",
       "      <td>2.105710</td>\n",
       "      <td>8.707259</td>\n",
       "      <td>168.537116</td>\n",
       "      <td>2.164946</td>\n",
       "      <td>91.294864</td>\n",
       "      <td>7.141062</td>\n",
       "      <td>9.197104</td>\n",
       "    </tr>\n",
       "    <tr>\n",
       "      <th>min</th>\n",
       "      <td>0.006320</td>\n",
       "      <td>0.000000</td>\n",
       "      <td>0.460000</td>\n",
       "      <td>0.000000</td>\n",
       "      <td>0.385000</td>\n",
       "      <td>3.561000</td>\n",
       "      <td>2.900000</td>\n",
       "      <td>1.129600</td>\n",
       "      <td>1.000000</td>\n",
       "      <td>187.000000</td>\n",
       "      <td>12.600000</td>\n",
       "      <td>0.320000</td>\n",
       "      <td>1.730000</td>\n",
       "      <td>5.000000</td>\n",
       "    </tr>\n",
       "    <tr>\n",
       "      <th>25%</th>\n",
       "      <td>0.082045</td>\n",
       "      <td>0.000000</td>\n",
       "      <td>5.190000</td>\n",
       "      <td>0.000000</td>\n",
       "      <td>0.449000</td>\n",
       "      <td>5.885500</td>\n",
       "      <td>45.025000</td>\n",
       "      <td>2.100175</td>\n",
       "      <td>4.000000</td>\n",
       "      <td>279.000000</td>\n",
       "      <td>17.400000</td>\n",
       "      <td>375.377500</td>\n",
       "      <td>6.950000</td>\n",
       "      <td>17.025000</td>\n",
       "    </tr>\n",
       "    <tr>\n",
       "      <th>50%</th>\n",
       "      <td>0.256510</td>\n",
       "      <td>0.000000</td>\n",
       "      <td>9.690000</td>\n",
       "      <td>0.000000</td>\n",
       "      <td>0.538000</td>\n",
       "      <td>6.208500</td>\n",
       "      <td>77.500000</td>\n",
       "      <td>3.207450</td>\n",
       "      <td>5.000000</td>\n",
       "      <td>330.000000</td>\n",
       "      <td>19.050000</td>\n",
       "      <td>391.440000</td>\n",
       "      <td>11.360000</td>\n",
       "      <td>21.200000</td>\n",
       "    </tr>\n",
       "    <tr>\n",
       "      <th>75%</th>\n",
       "      <td>3.677082</td>\n",
       "      <td>12.500000</td>\n",
       "      <td>18.100000</td>\n",
       "      <td>0.000000</td>\n",
       "      <td>0.624000</td>\n",
       "      <td>6.623500</td>\n",
       "      <td>94.075000</td>\n",
       "      <td>5.188425</td>\n",
       "      <td>24.000000</td>\n",
       "      <td>666.000000</td>\n",
       "      <td>20.200000</td>\n",
       "      <td>396.225000</td>\n",
       "      <td>16.955000</td>\n",
       "      <td>25.000000</td>\n",
       "    </tr>\n",
       "    <tr>\n",
       "      <th>max</th>\n",
       "      <td>88.976200</td>\n",
       "      <td>100.000000</td>\n",
       "      <td>27.740000</td>\n",
       "      <td>1.000000</td>\n",
       "      <td>0.871000</td>\n",
       "      <td>8.780000</td>\n",
       "      <td>100.000000</td>\n",
       "      <td>12.126500</td>\n",
       "      <td>24.000000</td>\n",
       "      <td>711.000000</td>\n",
       "      <td>22.000000</td>\n",
       "      <td>396.900000</td>\n",
       "      <td>37.970000</td>\n",
       "      <td>50.000000</td>\n",
       "    </tr>\n",
       "  </tbody>\n",
       "</table>\n",
       "</div>"
      ],
      "text/plain": [
       "             CRIM          ZN       INDUS        CHAS         NOX          RM  \\\n",
       "count  506.000000  506.000000  506.000000  506.000000  506.000000  506.000000   \n",
       "mean     3.613524   11.363636   11.136779    0.069170    0.554695    6.284634   \n",
       "std      8.601545   23.322453    6.860353    0.253994    0.115878    0.702617   \n",
       "min      0.006320    0.000000    0.460000    0.000000    0.385000    3.561000   \n",
       "25%      0.082045    0.000000    5.190000    0.000000    0.449000    5.885500   \n",
       "50%      0.256510    0.000000    9.690000    0.000000    0.538000    6.208500   \n",
       "75%      3.677082   12.500000   18.100000    0.000000    0.624000    6.623500   \n",
       "max     88.976200  100.000000   27.740000    1.000000    0.871000    8.780000   \n",
       "\n",
       "              AGE         DIS         RAD         TAX     PTRATIO           B  \\\n",
       "count  506.000000  506.000000  506.000000  506.000000  506.000000  506.000000   \n",
       "mean    68.574901    3.795043    9.549407  408.237154   18.455534  356.674032   \n",
       "std     28.148861    2.105710    8.707259  168.537116    2.164946   91.294864   \n",
       "min      2.900000    1.129600    1.000000  187.000000   12.600000    0.320000   \n",
       "25%     45.025000    2.100175    4.000000  279.000000   17.400000  375.377500   \n",
       "50%     77.500000    3.207450    5.000000  330.000000   19.050000  391.440000   \n",
       "75%     94.075000    5.188425   24.000000  666.000000   20.200000  396.225000   \n",
       "max    100.000000   12.126500   24.000000  711.000000   22.000000  396.900000   \n",
       "\n",
       "            LSTAT        MEDV  \n",
       "count  506.000000  506.000000  \n",
       "mean    12.653063   22.532806  \n",
       "std      7.141062    9.197104  \n",
       "min      1.730000    5.000000  \n",
       "25%      6.950000   17.025000  \n",
       "50%     11.360000   21.200000  \n",
       "75%     16.955000   25.000000  \n",
       "max     37.970000   50.000000  "
      ]
     },
     "execution_count": 6,
     "metadata": {},
     "output_type": "execute_result"
    }
   ],
   "source": [
    "df.describe()"
   ]
  },
  {
   "cell_type": "markdown",
   "metadata": {},
   "source": [
    "We now have a better feeling for how different the attributes are. The min and max values\n",
    "as well are the means vary a lot. We are likely going to get better results by <span class=\"mark\">rescaling the data</span>\n",
    "in some way."
   ]
  },
  {
   "cell_type": "markdown",
   "metadata": {},
   "source": [
    "#### correlation"
   ]
  },
  {
   "cell_type": "code",
   "execution_count": 15,
   "metadata": {},
   "outputs": [],
   "source": [
    "# plt.figure(figsize=(15,12))\n",
    "# sns.heatmap(df.corr(),annot=True)"
   ]
  },
  {
   "cell_type": "code",
   "execution_count": 16,
   "metadata": {},
   "outputs": [
    {
     "data": {
      "text/plain": [
       "<seaborn.matrix.ClusterGrid at 0xd6c3081e10>"
      ]
     },
     "execution_count": 16,
     "metadata": {},
     "output_type": "execute_result"
    },
    {
     "data": {
      "text/plain": [
       "<matplotlib.figure.Figure at 0xd6c3e824e0>"
      ]
     },
     "metadata": {},
     "output_type": "display_data"
    },
    {
     "data": {
      "image/png": "[encoded data removed]",
      "text/plain": [
       "<matplotlib.figure.Figure at 0xd6c3e8b4a8>"
      ]
     },
     "metadata": {},
     "output_type": "display_data"
    }
   ],
   "source": [
    "plt.figure(figsize=(20,16))\n",
    "sns.clustermap(X.corr(),annot=True)"
   ]
  },
  {
   "cell_type": "markdown",
   "metadata": {},
   "source": [
    "Clustermap provides best way to look at correlation, coz it separates negatives & positives clearly & as an observation, we can delete one of two variables which are highly correlated, ex: DIS & NOX have -0.77, it is up to you to decide whether to delete them if the score is above 0.7 or 0.8, before deleting it check with other variables especially target, how it correlates with target variable"
   ]
  },
  {
   "cell_type": "markdown",
   "metadata": {},
   "source": [
    "# Unimodal Data Visualizations\n",
    "Let's look at visualizations of individual attributes. It is often useful to look at your data\n",
    "using multiple di\u000b",
    "erent visualizations in order to spark ideas. Let's look at histograms of each\n",
    "attribute to get a sense of the data distributions."
   ]
  },
  {
   "cell_type": "code",
   "execution_count": 26,
   "metadata": {},
   "outputs": [
    {
     "data": {
      "image/png": "[encoded data removed]",
      "text/plain": [
       "<matplotlib.figure.Figure at 0xd6c6184908>"
      ]
     },
     "metadata": {},
     "output_type": "display_data"
    }
   ],
   "source": [
    "# # histograms\n",
    "# plt.figure(figsize=(10,8))\n",
    "# df.hist(sharex=False, sharey=False, xlabelsize=1, ylabelsize=1)\n",
    "# plt.show()\n",
    "\n",
    "df.hist(figsize=(15,12),bins=40,sharex=False)\n",
    "plt.show()"
   ]
  },
  {
   "cell_type": "markdown",
   "metadata": {},
   "source": [
    "We can see that some attributes may have an <span class=\"mark\">exponential distribution</span>, such as <span class=\"mark\">CRIM, ZN,\n",
    "AGE and B</span>. We can see that others may have a <span class=\"burk\">bimodal</span> distribution such as <span class=\"burk\">RAD and TAX.</span>"
   ]
  },
  {
   "cell_type": "code",
   "execution_count": 28,
   "metadata": {},
   "outputs": [
    {
     "data": {
      "image/png": "[encoded data removed]",
      "text/plain": [
       "<matplotlib.figure.Figure at 0xd6c5f72470>"
      ]
     },
     "metadata": {},
     "output_type": "display_data"
    }
   ],
   "source": [
    "df.plot(kind='density',subplots=True,layout=(4,4),figsize=(15,12),sharex=False) # sharex is important because features have diff scales\n",
    "plt.show()"
   ]
  },
  {
   "cell_type": "markdown",
   "metadata": {},
   "source": [
    "This perhaps adds more evidence to our suspicion about possible exponential and bimodal\n",
    "distributions. It also looks like NOX, RM and LSTAT may be skewed Gaussian distributions, which\n",
    "might be helpful later with transforms."
   ]
  },
  {
   "cell_type": "code",
   "execution_count": 29,
   "metadata": {},
   "outputs": [
    {
     "data": {
      "image/png": "[encoded data removed]",
      "text/plain": [
       "<matplotlib.figure.Figure at 0xd6c487fe10>"
      ]
     },
     "metadata": {},
     "output_type": "display_data"
    }
   ],
   "source": [
    "df.plot(kind='box', subplots=True, layout=(4,4), sharex=False, sharey=False,figsize=(15,12))\n",
    "plt.show()"
   ]
  },
  {
   "cell_type": "markdown",
   "metadata": {},
   "source": [
    "# Summary of Ideas:\n",
    "There is a lot of structure in this dataset. We need to think about transforms that we could use\n",
    "later to better expose the structure which in turn may improve modeling accuracy. So far it\n",
    "would be worth trying:\n",
    "\n",
    "- Feature selection and removing the most correlated attributes.\n",
    "- Normalizing the dataset to reduce the effect of differing scales.\n",
    "- Standardizing the dataset to reduce the effects of differing distributions.\n",
    "\n",
    "With lots of additional time I would also explore the possibility of binning (discretization)\n",
    "of the data. This can often improve accuracy for decision tree algorithms."
   ]
  },
  {
   "cell_type": "markdown",
   "metadata": {},
   "source": [
    "## For now lets go with default data without transformations & later we can improve further"
   ]
  },
  {
   "cell_type": "markdown",
   "metadata": {},
   "source": [
    "https://stats.stackexchange.com/questions/189652/is-it-a-good-practice-to-always-scale-normalize-data-for-machine-learning\n",
    "https://stats.stackexchange.com/questions/89809/is-it-important-to-scale-data-before-clustering"
   ]
  },
  {
   "cell_type": "code",
   "execution_count": 30,
   "metadata": {
    "collapsed": true
   },
   "outputs": [],
   "source": [
    "validation_size = 0.20\n",
    "seed = 7\n",
    "X_train, X_validation, Y_train, Y_validation = train_test_split(X, Y,\n",
    "test_size=validation_size, random_state=seed)"
   ]
  },
  {
   "cell_type": "markdown",
   "metadata": {},
   "source": [
    "We have no idea what algorithms will do well on this problem. <span class=\"mark\">Gut feel</span> suggests regression\n",
    "algorithms like <span class=\"girk\">Linear Regression and ElasticNet may do well</span>. It is also possible that decision\n",
    "trees and even SVM may do well. I have no idea. Let's design our test harness. We will use\n",
    "10-fold cross validation. The dataset is not too small and this is a good standard test harness\n",
    "configuration. We will evaluate algorithms using the Mean Squared Error (MSE) metric. MSE\n",
    "will give a gross idea of how wrong all predictions are (0 is perfect)."
   ]
  },
  {
   "cell_type": "code",
   "execution_count": 31,
   "metadata": {
    "collapsed": true
   },
   "outputs": [],
   "source": [
    "# Test options and evaluation metric\n",
    "num_folds = 10\n",
    "seed = 7\n",
    "scoring = 'neg_mean_squared_error'"
   ]
  },
  {
   "cell_type": "markdown",
   "metadata": {},
   "source": [
    "Let's create a baseline of performance on this problem and spot-check a number of different\n",
    "algorithms. We will select a suite of different algorithms capable of working on this regression\n",
    "problem. The six algorithms selected include:\n",
    "\n",
    "- Linear Algorithms: Linear Regression (LR), Lasso Regression (LASSO) and ElasticNet(EN).\n",
    "- Nonlinear Algorithms: Classification and Regression Trees (CART), Support Vector Regression (SVR) and k-Nearest Neighbors(KNN)."
   ]
  },
  {
   "cell_type": "code",
   "execution_count": 32,
   "metadata": {
    "collapsed": true
   },
   "outputs": [],
   "source": [
    "models = [('LR',LinearRegression()),\n",
    "         ('Lasso',Lasso()),\n",
    "         ('EN',ElasticNet()),\n",
    "         ('Knn',KNeighborsRegressor()),\n",
    "         ('CART',DecisionTreeRegressor()),\n",
    "         ('SVR',SVR())]"
   ]
  },
  {
   "cell_type": "markdown",
   "metadata": {},
   "source": [
    "The algorithms all use default tuning parameters. Let's compare the algorithms. We will\n",
    "display the mean and standard deviation of MSE for each algorithm as we calculate it and\n",
    "collect the results for use later."
   ]
  },
  {
   "cell_type": "code",
   "execution_count": 44,
   "metadata": {
    "collapsed": true
   },
   "outputs": [],
   "source": [
    "results = []\n",
    "names = []\n",
    "means = []\n",
    "stds = []"
   ]
  },
  {
   "cell_type": "code",
   "execution_count": 45,
   "metadata": {},
   "outputs": [],
   "source": [
    "for name, model in models:\n",
    "    kfold = KFold(n_splits=num_folds, random_state=seed)\n",
    "    cv_results = cross_val_score(model,X_train,Y_train,scoring=scoring,cv=kfold)\n",
    "    \n",
    "    results.append(cv_results)\n",
    "    names.append(name)\n",
    "    means.append(np.abs(cv_results.mean()))\n",
    "    stds.append(cv_results.std())\n",
    "    "
   ]
  },
  {
   "cell_type": "markdown",
   "metadata": {},
   "source": [
    "https://stackoverflow.com/questions/30522724/take-multiple-lists-into-dataframe"
   ]
  },
  {
   "cell_type": "code",
   "execution_count": 46,
   "metadata": {},
   "outputs": [],
   "source": [
    "res = pd.DataFrame(list(zip(names, means, stds)),\n",
    "              columns=['estimators','mean_val', 'std'])"
   ]
  },
  {
   "cell_type": "code",
   "execution_count": 47,
   "metadata": {},
   "outputs": [
    {
     "data": {
      "text/html": [
       "<div>\n",
       "<style>\n",
       "    .dataframe thead tr:only-child th {\n",
       "        text-align: right;\n",
       "    }\n",
       "\n",
       "    .dataframe thead th {\n",
       "        text-align: left;\n",
       "    }\n",
       "\n",
       "    .dataframe tbody tr th {\n",
       "        vertical-align: top;\n",
       "    }\n",
       "</style>\n",
       "<table border=\"1\" class=\"dataframe\">\n",
       "  <thead>\n",
       "    <tr style=\"text-align: right;\">\n",
       "      <th></th>\n",
       "      <th>estimators</th>\n",
       "      <th>mean_val</th>\n",
       "      <th>std</th>\n",
       "    </tr>\n",
       "  </thead>\n",
       "  <tbody>\n",
       "    <tr>\n",
       "      <th>0</th>\n",
       "      <td>LR</td>\n",
       "      <td>21.379856</td>\n",
       "      <td>9.414264</td>\n",
       "    </tr>\n",
       "    <tr>\n",
       "      <th>1</th>\n",
       "      <td>Lasso</td>\n",
       "      <td>26.423561</td>\n",
       "      <td>11.651110</td>\n",
       "    </tr>\n",
       "    <tr>\n",
       "      <th>4</th>\n",
       "      <td>CART</td>\n",
       "      <td>26.470070</td>\n",
       "      <td>12.277388</td>\n",
       "    </tr>\n",
       "    <tr>\n",
       "      <th>2</th>\n",
       "      <td>EN</td>\n",
       "      <td>27.502259</td>\n",
       "      <td>12.305022</td>\n",
       "    </tr>\n",
       "    <tr>\n",
       "      <th>3</th>\n",
       "      <td>Knn</td>\n",
       "      <td>41.896488</td>\n",
       "      <td>13.901688</td>\n",
       "    </tr>\n",
       "    <tr>\n",
       "      <th>5</th>\n",
       "      <td>SVR</td>\n",
       "      <td>85.518342</td>\n",
       "      <td>31.994798</td>\n",
       "    </tr>\n",
       "  </tbody>\n",
       "</table>\n",
       "</div>"
      ],
      "text/plain": [
       "  estimators   mean_val        std\n",
       "0         LR  21.379856   9.414264\n",
       "1      Lasso  26.423561  11.651110\n",
       "4       CART  26.470070  12.277388\n",
       "2         EN  27.502259  12.305022\n",
       "3        Knn  41.896488  13.901688\n",
       "5        SVR  85.518342  31.994798"
      ]
     },
     "execution_count": 47,
     "metadata": {},
     "output_type": "execute_result"
    }
   ],
   "source": [
    "res.sort_values('mean_val')"
   ]
  },
  {
   "cell_type": "markdown",
   "metadata": {},
   "source": [
    "https://stackoverflow.com/questions/44975337/side-by-side-boxplots-with-pandas"
   ]
  },
  {
   "cell_type": "code",
   "execution_count": 48,
   "metadata": {},
   "outputs": [
    {
     "data": {
      "image/png": "[encoded data removed]",
      "text/plain": [
       "<matplotlib.figure.Figure at 0xd6c5d98e48>"
      ]
     },
     "metadata": {},
     "output_type": "display_data"
    }
   ],
   "source": [
    "# Compare Algorithms\n",
    "fig = plt.figure()\n",
    "fig.suptitle('Algorithm Comparison')\n",
    "ax = fig.add_subplot(111)\n",
    "plt.boxplot(results)\n",
    "ax.set_xticklabels(names)\n",
    "plt.show()"
   ]
  },
  {
   "cell_type": "code",
   "execution_count": 60,
   "metadata": {},
   "outputs": [],
   "source": [
    "cv_dict = dict(zip(names,results))\n"
   ]
  },
  {
   "cell_type": "code",
   "execution_count": 62,
   "metadata": {},
   "outputs": [],
   "source": [
    "cv_df = pd.DataFrame.from_dict(cv_dict)"
   ]
  },
  {
   "cell_type": "code",
   "execution_count": 63,
   "metadata": {},
   "outputs": [
    {
     "data": {
      "text/html": [
       "<div>\n",
       "<style>\n",
       "    .dataframe thead tr:only-child th {\n",
       "        text-align: right;\n",
       "    }\n",
       "\n",
       "    .dataframe thead th {\n",
       "        text-align: left;\n",
       "    }\n",
       "\n",
       "    .dataframe tbody tr th {\n",
       "        vertical-align: top;\n",
       "    }\n",
       "</style>\n",
       "<table border=\"1\" class=\"dataframe\">\n",
       "  <thead>\n",
       "    <tr style=\"text-align: right;\">\n",
       "      <th></th>\n",
       "      <th>CART</th>\n",
       "      <th>EN</th>\n",
       "      <th>Knn</th>\n",
       "      <th>LR</th>\n",
       "      <th>Lasso</th>\n",
       "      <th>SVR</th>\n",
       "    </tr>\n",
       "  </thead>\n",
       "  <tbody>\n",
       "    <tr>\n",
       "      <th>0</th>\n",
       "      <td>-16.147561</td>\n",
       "      <td>-14.230209</td>\n",
       "      <td>-37.588859</td>\n",
       "      <td>-9.792428</td>\n",
       "      <td>-14.337477</td>\n",
       "      <td>-60.052604</td>\n",
       "    </tr>\n",
       "    <tr>\n",
       "      <th>1</th>\n",
       "      <td>-21.520732</td>\n",
       "      <td>-25.221651</td>\n",
       "      <td>-25.082020</td>\n",
       "      <td>-27.986760</td>\n",
       "      <td>-23.712587</td>\n",
       "      <td>-93.116945</td>\n",
       "    </tr>\n",
       "    <tr>\n",
       "      <th>2</th>\n",
       "      <td>-22.863902</td>\n",
       "      <td>-49.898017</td>\n",
       "      <td>-49.220810</td>\n",
       "      <td>-39.573100</td>\n",
       "      <td>-47.352553</td>\n",
       "      <td>-136.705768</td>\n",
       "    </tr>\n",
       "    <tr>\n",
       "      <th>3</th>\n",
       "      <td>-43.590000</td>\n",
       "      <td>-27.580829</td>\n",
       "      <td>-65.816956</td>\n",
       "      <td>-21.648367</td>\n",
       "      <td>-26.857044</td>\n",
       "      <td>-67.593749</td>\n",
       "    </tr>\n",
       "    <tr>\n",
       "      <th>4</th>\n",
       "      <td>-24.283750</td>\n",
       "      <td>-22.863835</td>\n",
       "      <td>-66.316060</td>\n",
       "      <td>-19.300623</td>\n",
       "      <td>-21.692058</td>\n",
       "      <td>-53.175887</td>\n",
       "    </tr>\n",
       "    <tr>\n",
       "      <th>5</th>\n",
       "      <td>-51.991250</td>\n",
       "      <td>-45.060348</td>\n",
       "      <td>-40.579110</td>\n",
       "      <td>-32.489405</td>\n",
       "      <td>-42.912833</td>\n",
       "      <td>-110.564875</td>\n",
       "    </tr>\n",
       "    <tr>\n",
       "      <th>6</th>\n",
       "      <td>-19.841250</td>\n",
       "      <td>-34.957999</td>\n",
       "      <td>-36.847000</td>\n",
       "      <td>-20.578908</td>\n",
       "      <td>-34.255231</td>\n",
       "      <td>-105.939128</td>\n",
       "    </tr>\n",
       "    <tr>\n",
       "      <th>7</th>\n",
       "      <td>-8.612000</td>\n",
       "      <td>-14.272721</td>\n",
       "      <td>-36.262570</td>\n",
       "      <td>-9.757957</td>\n",
       "      <td>-13.461241</td>\n",
       "      <td>-56.471995</td>\n",
       "    </tr>\n",
       "    <tr>\n",
       "      <th>8</th>\n",
       "      <td>-32.772750</td>\n",
       "      <td>-29.738150</td>\n",
       "      <td>-37.557720</td>\n",
       "      <td>-21.945826</td>\n",
       "      <td>-28.636058</td>\n",
       "      <td>-128.529243</td>\n",
       "    </tr>\n",
       "    <tr>\n",
       "      <th>9</th>\n",
       "      <td>-23.077500</td>\n",
       "      <td>-11.198834</td>\n",
       "      <td>-23.693780</td>\n",
       "      <td>-10.725183</td>\n",
       "      <td>-11.018528</td>\n",
       "      <td>-43.033223</td>\n",
       "    </tr>\n",
       "  </tbody>\n",
       "</table>\n",
       "</div>"
      ],
      "text/plain": [
       "        CART         EN        Knn         LR      Lasso         SVR\n",
       "0 -16.147561 -14.230209 -37.588859  -9.792428 -14.337477  -60.052604\n",
       "1 -21.520732 -25.221651 -25.082020 -27.986760 -23.712587  -93.116945\n",
       "2 -22.863902 -49.898017 -49.220810 -39.573100 -47.352553 -136.705768\n",
       "3 -43.590000 -27.580829 -65.816956 -21.648367 -26.857044  -67.593749\n",
       "4 -24.283750 -22.863835 -66.316060 -19.300623 -21.692058  -53.175887\n",
       "5 -51.991250 -45.060348 -40.579110 -32.489405 -42.912833 -110.564875\n",
       "6 -19.841250 -34.957999 -36.847000 -20.578908 -34.255231 -105.939128\n",
       "7  -8.612000 -14.272721 -36.262570  -9.757957 -13.461241  -56.471995\n",
       "8 -32.772750 -29.738150 -37.557720 -21.945826 -28.636058 -128.529243\n",
       "9 -23.077500 -11.198834 -23.693780 -10.725183 -11.018528  -43.033223"
      ]
     },
     "execution_count": 63,
     "metadata": {},
     "output_type": "execute_result"
    }
   ],
   "source": [
    "cv_df"
   ]
  },
  {
   "cell_type": "code",
   "execution_count": 69,
   "metadata": {},
   "outputs": [],
   "source": [
    "from plotly import __version__"
   ]
  },
  {
   "cell_type": "code",
   "execution_count": 73,
   "metadata": {
    "collapsed": true
   },
   "outputs": [],
   "source": [
    "import cufflinks as cf"
   ]
  },
  {
   "cell_type": "code",
   "execution_count": 70,
   "metadata": {
    "collapsed": true
   },
   "outputs": [],
   "source": [
    "from plotly.offline import download_plotlyjs,init_notebook_mode,plot,iplot"
   ]
  },
  {
   "cell_type": "code",
   "execution_count": 71,
   "metadata": {},
   "outputs": [
    {
     "data": {
      "text/html": [
       "<script>requirejs.config({paths: { 'plotly': ['https://cdn.plot.ly/plotly-latest.min']},});if(!window.Plotly) {{require(['plotly'],function(plotly) {window.Plotly=plotly;});}}</script>"
      ],
      "text/vnd.plotly.v1+html": [
       "<script>requirejs.config({paths: { 'plotly': ['https://cdn.plot.ly/plotly-latest.min']},});if(!window.Plotly) {{require(['plotly'],function(plotly) {window.Plotly=plotly;});}}</script>"
      ]
     },
     "metadata": {},
     "output_type": "display_data"
    }
   ],
   "source": [
    "init_notebook_mode(connected=True)"
   ]
  },
  {
   "cell_type": "code",
   "execution_count": 74,
   "metadata": {},
   "outputs": [
    {
     "name": "stderr",
     "output_type": "stream",
     "text": [
      "IOPub data rate exceeded.\n",
      "The notebook server will temporarily stop sending output\n",
      "to the client in order to avoid crashing it.\n",
      "To change this limit, set the config variable\n",
      "`--NotebookApp.iopub_data_rate_limit`.\n"
     ]
    }
   ],
   "source": [
    "cf.go_offline()"
   ]
  },
  {
   "cell_type": "markdown",
   "metadata": {},
   "source": [
    "https://stackoverflow.com/questions/43288550/iopub-data-rate-exceeded-when-viewing-image-in-jupyter-notebook"
   ]
  },
  {
   "cell_type": "code",
   "execution_count": 75,
   "metadata": {},
   "outputs": [
    {
     "data": {
      "application/vnd.plotly.v1+json": {
       "data": [
        {
         "boxpoints": false,
         "line": {
          "width": 1.3
         },
         "marker": {
          "color": "rgba(255, 153, 51, 1.0)"
         },
         "name": "CART",
         "type": "box",
         "y": [
          -16.147560975609753,
          -21.520731707317076,
          -22.863902439024386,
          -43.589999999999996,
          -24.28375,
          -51.991249999999994,
          -19.84125,
          -8.612,
          -32.772749999999995,
          -23.0775
         ]
        },
        {
         "boxpoints": false,
         "line": {
          "width": 1.3
         },
         "marker": {
          "color": "rgba(55, 128, 191, 1.0)"
         },
         "name": "EN",
         "type": "box",
         "y": [
          -14.230208807420903,
          -25.221650649618308,
          -49.8980167840241,
          -27.580828852271495,
          -22.86383535379544,
          -45.06034844833319,
          -34.9579992992407,
          -14.272721417847492,
          -29.738150342656105,
          -11.198833551409368
         ]
        },
        {
         "boxpoints": false,
         "line": {
          "width": 1.3
         },
         "marker": {
          "color": "rgba(50, 171, 96, 1.0)"
         },
         "name": "Knn",
         "type": "box",
         "y": [
          -37.58885853658536,
          -25.082019512195117,
          -49.220809756097566,
          -65.81695609756099,
          -66.31606000000001,
          -40.57910999999999,
          -36.847,
          -36.262570000000004,
          -37.55772,
          -23.693779999999997
         ]
        },
        {
         "boxpoints": false,
         "line": {
          "width": 1.3
         },
         "marker": {
          "color": "rgba(128, 0, 128, 1.0)"
         },
         "name": "LR",
         "type": "box",
         "y": [
          -9.79242784245741,
          -27.98675962913667,
          -39.573100264865964,
          -21.648366699013664,
          -19.300623022273612,
          -32.48940460100026,
          -20.578908162782213,
          -9.757957405295894,
          -21.945826484239287,
          -10.725183155722828
         ]
        },
        {
         "boxpoints": false,
         "line": {
          "width": 1.3
         },
         "marker": {
          "color": "rgba(219, 64, 82, 1.0)"
         },
         "name": "Lasso",
         "type": "box",
         "y": [
          -14.337477333414398,
          -23.71258721624626,
          -47.3525530640789,
          -26.85704434827749,
          -21.69205797193888,
          -42.91283335756393,
          -34.255231243607454,
          -13.461240649363546,
          -28.636057703395057,
          -11.018528196210573
         ]
        },
        {
         "boxpoints": false,
         "line": {
          "width": 1.3
         },
         "marker": {
          "color": "rgba(0, 128, 128, 1.0)"
         },
         "name": "SVR",
         "type": "box",
         "y": [
          -60.05260414487067,
          -93.11694532205112,
          -136.70576813484752,
          -67.59374887411344,
          -53.17588741455379,
          -110.56487521266081,
          -105.9391280995138,
          -56.47199465755672,
          -128.52924323111748,
          -43.033223301627665
         ]
        }
       ],
       "layout": {
        "legend": {
         "bgcolor": "#F5F6F9",
         "font": {
          "color": "#4D5663"
         }
        },
        "paper_bgcolor": "#F5F6F9",
        "plot_bgcolor": "#F5F6F9",
        "titlefont": {
         "color": "#4D5663"
        },
        "xaxis1": {
         "gridcolor": "#E1E5ED",
         "showgrid": true,
         "tickfont": {
          "color": "#4D5663"
         },
         "title": "",
         "titlefont": {
          "color": "#4D5663"
         },
         "zerolinecolor": "#E1E5ED"
        },
        "yaxis1": {
         "gridcolor": "#E1E5ED",
         "showgrid": true,
         "tickfont": {
          "color": "#4D5663"
         },
         "title": "",
         "titlefont": {
          "color": "#4D5663"
         },
         "zerolinecolor": "#E1E5ED"
        }
       }
      },
      "text/html": [
       "<div id=\"5157bde5-f4de-4be7-ab2f-8725018df91f\" style=\"height: 525px; width: 100%;\" class=\"plotly-graph-div\"></div><script type=\"text/javascript\">require([\"plotly\"], function(Plotly) { window.PLOTLYENV=window.PLOTLYENV || {};window.PLOTLYENV.BASE_URL=\"https://plot.ly\";Plotly.newPlot(\"5157bde5-f4de-4be7-ab2f-8725018df91f\", [{\"type\": \"box\", \"y\": [-16.147560975609753, -21.520731707317076, -22.863902439024386, -43.589999999999996, -24.28375, -51.991249999999994, -19.84125, -8.612, -32.772749999999995, -23.0775], \"marker\": {\"color\": \"rgba(255, 153, 51, 1.0)\"}, \"name\": \"CART\", \"line\": {\"width\": 1.3}, \"boxpoints\": false}, {\"type\": \"box\", \"y\": [-14.230208807420903, -25.221650649618308, -49.8980167840241, -27.580828852271495, -22.86383535379544, -45.06034844833319, -34.9579992992407, -14.272721417847492, -29.738150342656105, -11.198833551409368], \"marker\": {\"color\": \"rgba(55, 128, 191, 1.0)\"}, \"name\": \"EN\", \"line\": {\"width\": 1.3}, \"boxpoints\": false}, {\"type\": \"box\", \"y\": [-37.58885853658536, -25.082019512195117, -49.220809756097566, -65.81695609756099, -66.31606000000001, -40.57910999999999, -36.847, -36.262570000000004, -37.55772, -23.693779999999997], \"marker\": {\"color\": \"rgba(50, 171, 96, 1.0)\"}, \"name\": \"Knn\", \"line\": {\"width\": 1.3}, \"boxpoints\": false}, {\"type\": \"box\", \"y\": [-9.79242784245741, -27.98675962913667, -39.573100264865964, -21.648366699013664, -19.300623022273612, -32.48940460100026, -20.578908162782213, -9.757957405295894, -21.945826484239287, -10.725183155722828], \"marker\": {\"color\": \"rgba(128, 0, 128, 1.0)\"}, \"name\": \"LR\", \"line\": {\"width\": 1.3}, \"boxpoints\": false}, {\"type\": \"box\", \"y\": [-14.337477333414398, -23.71258721624626, -47.3525530640789, -26.85704434827749, -21.69205797193888, -42.91283335756393, -34.255231243607454, -13.461240649363546, -28.636057703395057, -11.018528196210573], \"marker\": {\"color\": \"rgba(219, 64, 82, 1.0)\"}, \"name\": \"Lasso\", \"line\": {\"width\": 1.3}, \"boxpoints\": false}, {\"type\": \"box\", \"y\": [-60.05260414487067, -93.11694532205112, -136.70576813484752, -67.59374887411344, -53.17588741455379, -110.56487521266081, -105.9391280995138, -56.47199465755672, -128.52924323111748, -43.033223301627665], \"marker\": {\"color\": \"rgba(0, 128, 128, 1.0)\"}, \"name\": \"SVR\", \"line\": {\"width\": 1.3}, \"boxpoints\": false}], {\"legend\": {\"bgcolor\": \"#F5F6F9\", \"font\": {\"color\": \"#4D5663\"}}, \"paper_bgcolor\": \"#F5F6F9\", \"plot_bgcolor\": \"#F5F6F9\", \"yaxis1\": {\"tickfont\": {\"color\": \"#4D5663\"}, \"gridcolor\": \"#E1E5ED\", \"titlefont\": {\"color\": \"#4D5663\"}, \"zerolinecolor\": \"#E1E5ED\", \"showgrid\": true, \"title\": \"\"}, \"xaxis1\": {\"tickfont\": {\"color\": \"#4D5663\"}, \"gridcolor\": \"#E1E5ED\", \"titlefont\": {\"color\": \"#4D5663\"}, \"zerolinecolor\": \"#E1E5ED\", \"showgrid\": true, \"title\": \"\"}, \"titlefont\": {\"color\": \"#4D5663\"}}, {\"showLink\": true, \"linkText\": \"Export to plot.ly\"})});</script>"
      ],
      "text/vnd.plotly.v1+html": [
       "<div id=\"5157bde5-f4de-4be7-ab2f-8725018df91f\" style=\"height: 525px; width: 100%;\" class=\"plotly-graph-div\"></div><script type=\"text/javascript\">require([\"plotly\"], function(Plotly) { window.PLOTLYENV=window.PLOTLYENV || {};window.PLOTLYENV.BASE_URL=\"https://plot.ly\";Plotly.newPlot(\"5157bde5-f4de-4be7-ab2f-8725018df91f\", [{\"type\": \"box\", \"y\": [-16.147560975609753, -21.520731707317076, -22.863902439024386, -43.589999999999996, -24.28375, -51.991249999999994, -19.84125, -8.612, -32.772749999999995, -23.0775], \"marker\": {\"color\": \"rgba(255, 153, 51, 1.0)\"}, \"name\": \"CART\", \"line\": {\"width\": 1.3}, \"boxpoints\": false}, {\"type\": \"box\", \"y\": [-14.230208807420903, -25.221650649618308, -49.8980167840241, -27.580828852271495, -22.86383535379544, -45.06034844833319, -34.9579992992407, -14.272721417847492, -29.738150342656105, -11.198833551409368], \"marker\": {\"color\": \"rgba(55, 128, 191, 1.0)\"}, \"name\": \"EN\", \"line\": {\"width\": 1.3}, \"boxpoints\": false}, {\"type\": \"box\", \"y\": [-37.58885853658536, -25.082019512195117, -49.220809756097566, -65.81695609756099, -66.31606000000001, -40.57910999999999, -36.847, -36.262570000000004, -37.55772, -23.693779999999997], \"marker\": {\"color\": \"rgba(50, 171, 96, 1.0)\"}, \"name\": \"Knn\", \"line\": {\"width\": 1.3}, \"boxpoints\": false}, {\"type\": \"box\", \"y\": [-9.79242784245741, -27.98675962913667, -39.573100264865964, -21.648366699013664, -19.300623022273612, -32.48940460100026, -20.578908162782213, -9.757957405295894, -21.945826484239287, -10.725183155722828], \"marker\": {\"color\": \"rgba(128, 0, 128, 1.0)\"}, \"name\": \"LR\", \"line\": {\"width\": 1.3}, \"boxpoints\": false}, {\"type\": \"box\", \"y\": [-14.337477333414398, -23.71258721624626, -47.3525530640789, -26.85704434827749, -21.69205797193888, -42.91283335756393, -34.255231243607454, -13.461240649363546, -28.636057703395057, -11.018528196210573], \"marker\": {\"color\": \"rgba(219, 64, 82, 1.0)\"}, \"name\": \"Lasso\", \"line\": {\"width\": 1.3}, \"boxpoints\": false}, {\"type\": \"box\", \"y\": [-60.05260414487067, -93.11694532205112, -136.70576813484752, -67.59374887411344, -53.17588741455379, -110.56487521266081, -105.9391280995138, -56.47199465755672, -128.52924323111748, -43.033223301627665], \"marker\": {\"color\": \"rgba(0, 128, 128, 1.0)\"}, \"name\": \"SVR\", \"line\": {\"width\": 1.3}, \"boxpoints\": false}], {\"legend\": {\"bgcolor\": \"#F5F6F9\", \"font\": {\"color\": \"#4D5663\"}}, \"paper_bgcolor\": \"#F5F6F9\", \"plot_bgcolor\": \"#F5F6F9\", \"yaxis1\": {\"tickfont\": {\"color\": \"#4D5663\"}, \"gridcolor\": \"#E1E5ED\", \"titlefont\": {\"color\": \"#4D5663\"}, \"zerolinecolor\": \"#E1E5ED\", \"showgrid\": true, \"title\": \"\"}, \"xaxis1\": {\"tickfont\": {\"color\": \"#4D5663\"}, \"gridcolor\": \"#E1E5ED\", \"titlefont\": {\"color\": \"#4D5663\"}, \"zerolinecolor\": \"#E1E5ED\", \"showgrid\": true, \"title\": \"\"}, \"titlefont\": {\"color\": \"#4D5663\"}}, {\"showLink\": true, \"linkText\": \"Export to plot.ly\"})});</script>"
      ]
     },
     "metadata": {},
     "output_type": "display_data"
    }
   ],
   "source": [
    "cv_df.iplot(kind='box')"
   ]
  },
  {
   "cell_type": "markdown",
   "metadata": {},
   "source": [
    "We can see similar distributions for the regression algorithms and perhaps a tighter distribu-\n",
    "tion of scores for CART."
   ]
  },
  {
   "cell_type": "markdown",
   "metadata": {},
   "source": [
    "#### The differing scales of the data is probably hurting the skill of all of the algorithms and perhaps more so for SVR and KNN."
   ]
  },
  {
   "cell_type": "markdown",
   "metadata": {},
   "source": [
    "We suspect that the differing scales of the raw data may be negatively impacting the skill of\n",
    "some of the algorithms. Let's evaluate the same algorithms with a standardized copy of the\n",
    "dataset. This is where the data is transformed such that each attribute has a mean value of\n",
    "zero and a standard deviation of 1. We also need to avoid data leakage when we transform the\n",
    "data. A good way to avoid leakage is to use pipelines that standardize the data and build the\n",
    "model for each fold in the cross validation test harness."
   ]
  },
  {
   "cell_type": "code",
   "execution_count": 77,
   "metadata": {
    "collapsed": true
   },
   "outputs": [],
   "source": [
    "pipelines = [('scalerLR',Pipeline([('scalar',StandardScaler()),('LR',LinearRegression())])),\n",
    "            ('scalerLasso',Pipeline([('scalar',StandardScaler()),('LR',Lasso())])),\n",
    "            ('scalerEN',Pipeline([('scalar',StandardScaler()),('LR',ElasticNet())])),\n",
    "            ('scalerKnn',Pipeline([('scalar',StandardScaler()),('LR',KNeighborsRegressor())])),\n",
    "            ('scalerCart',Pipeline([('scalar',StandardScaler()),('LR',DecisionTreeRegressor())])),\n",
    "            ('scalerSVR',Pipeline([('scalar',StandardScaler()),('LR',SVR())]))]\n"
   ]
  },
  {
   "cell_type": "code",
   "execution_count": 86,
   "metadata": {
    "collapsed": true
   },
   "outputs": [],
   "source": [
    "results1 = []\n",
    "names1 = []\n",
    "means1 = []\n",
    "stds1 = []"
   ]
  },
  {
   "cell_type": "code",
   "execution_count": 87,
   "metadata": {
    "collapsed": true
   },
   "outputs": [],
   "source": [
    "for name, model in pipelines:\n",
    "    kfold = KFold(n_splits=num_folds, random_state=seed)\n",
    "    cv_results = cross_val_score(model,X_train,Y_train,scoring=scoring,cv=kfold)\n",
    "    \n",
    "    results1.append(np.abs(cv_results))\n",
    "    names1.append(name)\n",
    "    means1.append(np.abs(cv_results.mean()))\n",
    "    stds1.append(cv_results.std())"
   ]
  },
  {
   "cell_type": "code",
   "execution_count": 89,
   "metadata": {},
   "outputs": [
    {
     "data": {
      "text/plain": [
       "['scalerLR', 'scalerLasso', 'scalerEN', 'scalerKnn', 'scalerCart', 'scalerSVR']"
      ]
     },
     "execution_count": 89,
     "metadata": {},
     "output_type": "execute_result"
    }
   ],
   "source": [
    "names1"
   ]
  },
  {
   "cell_type": "code",
   "execution_count": 90,
   "metadata": {
    "collapsed": true
   },
   "outputs": [],
   "source": [
    "res1 = pd.DataFrame(list(zip(names1, means1, stds1)),\n",
    "              columns=['estimators','mean_val', 'std'])"
   ]
  },
  {
   "cell_type": "code",
   "execution_count": 91,
   "metadata": {},
   "outputs": [
    {
     "data": {
      "text/html": [
       "<div>\n",
       "<style>\n",
       "    .dataframe thead tr:only-child th {\n",
       "        text-align: right;\n",
       "    }\n",
       "\n",
       "    .dataframe thead th {\n",
       "        text-align: left;\n",
       "    }\n",
       "\n",
       "    .dataframe tbody tr th {\n",
       "        vertical-align: top;\n",
       "    }\n",
       "</style>\n",
       "<table border=\"1\" class=\"dataframe\">\n",
       "  <thead>\n",
       "    <tr style=\"text-align: right;\">\n",
       "      <th></th>\n",
       "      <th>estimators</th>\n",
       "      <th>mean_val</th>\n",
       "      <th>std</th>\n",
       "    </tr>\n",
       "  </thead>\n",
       "  <tbody>\n",
       "    <tr>\n",
       "      <th>3</th>\n",
       "      <td>scalerKnn</td>\n",
       "      <td>20.107620</td>\n",
       "      <td>12.376949</td>\n",
       "    </tr>\n",
       "    <tr>\n",
       "      <th>0</th>\n",
       "      <td>scalerLR</td>\n",
       "      <td>21.379856</td>\n",
       "      <td>9.414264</td>\n",
       "    </tr>\n",
       "    <tr>\n",
       "      <th>4</th>\n",
       "      <td>scalerCart</td>\n",
       "      <td>26.148615</td>\n",
       "      <td>13.480596</td>\n",
       "    </tr>\n",
       "    <tr>\n",
       "      <th>1</th>\n",
       "      <td>scalerLasso</td>\n",
       "      <td>26.607314</td>\n",
       "      <td>8.978761</td>\n",
       "    </tr>\n",
       "    <tr>\n",
       "      <th>2</th>\n",
       "      <td>scalerEN</td>\n",
       "      <td>27.932372</td>\n",
       "      <td>10.587490</td>\n",
       "    </tr>\n",
       "    <tr>\n",
       "      <th>5</th>\n",
       "      <td>scalerSVR</td>\n",
       "      <td>29.633086</td>\n",
       "      <td>17.009186</td>\n",
       "    </tr>\n",
       "  </tbody>\n",
       "</table>\n",
       "</div>"
      ],
      "text/plain": [
       "    estimators   mean_val        std\n",
       "3    scalerKnn  20.107620  12.376949\n",
       "0     scalerLR  21.379856   9.414264\n",
       "4   scalerCart  26.148615  13.480596\n",
       "1  scalerLasso  26.607314   8.978761\n",
       "2     scalerEN  27.932372  10.587490\n",
       "5    scalerSVR  29.633086  17.009186"
      ]
     },
     "execution_count": 91,
     "metadata": {},
     "output_type": "execute_result"
    }
   ],
   "source": [
    "res1.sort_values('mean_val')"
   ]
  },
  {
   "cell_type": "code",
   "execution_count": 92,
   "metadata": {
    "collapsed": true
   },
   "outputs": [],
   "source": [
    "res_df = pd.DataFrame.from_dict(dict(zip(names1,results1)))"
   ]
  },
  {
   "cell_type": "code",
   "execution_count": 93,
   "metadata": {},
   "outputs": [
    {
     "data": {
      "text/html": [
       "<div>\n",
       "<style>\n",
       "    .dataframe thead tr:only-child th {\n",
       "        text-align: right;\n",
       "    }\n",
       "\n",
       "    .dataframe thead th {\n",
       "        text-align: left;\n",
       "    }\n",
       "\n",
       "    .dataframe tbody tr th {\n",
       "        vertical-align: top;\n",
       "    }\n",
       "</style>\n",
       "<table border=\"1\" class=\"dataframe\">\n",
       "  <thead>\n",
       "    <tr style=\"text-align: right;\">\n",
       "      <th></th>\n",
       "      <th>scalerCart</th>\n",
       "      <th>scalerEN</th>\n",
       "      <th>scalerKnn</th>\n",
       "      <th>scalerLR</th>\n",
       "      <th>scalerLasso</th>\n",
       "      <th>scalerSVR</th>\n",
       "    </tr>\n",
       "  </thead>\n",
       "  <tbody>\n",
       "    <tr>\n",
       "      <th>0</th>\n",
       "      <td>15.306341</td>\n",
       "      <td>16.678748</td>\n",
       "      <td>7.565171</td>\n",
       "      <td>9.792428</td>\n",
       "      <td>18.336109</td>\n",
       "      <td>13.087798</td>\n",
       "    </tr>\n",
       "    <tr>\n",
       "      <th>1</th>\n",
       "      <td>10.720244</td>\n",
       "      <td>28.079391</td>\n",
       "      <td>20.576312</td>\n",
       "      <td>27.986760</td>\n",
       "      <td>29.913574</td>\n",
       "      <td>25.925457</td>\n",
       "    </tr>\n",
       "    <tr>\n",
       "      <th>2</th>\n",
       "      <td>30.931951</td>\n",
       "      <td>48.697710</td>\n",
       "      <td>53.359141</td>\n",
       "      <td>39.573100</td>\n",
       "      <td>43.551237</td>\n",
       "      <td>73.942360</td>\n",
       "    </tr>\n",
       "    <tr>\n",
       "      <th>3</th>\n",
       "      <td>42.475366</td>\n",
       "      <td>29.873924</td>\n",
       "      <td>26.207980</td>\n",
       "      <td>21.648367</td>\n",
       "      <td>28.316966</td>\n",
       "      <td>33.581832</td>\n",
       "    </tr>\n",
       "    <tr>\n",
       "      <th>4</th>\n",
       "      <td>27.059250</td>\n",
       "      <td>22.933943</td>\n",
       "      <td>16.340590</td>\n",
       "      <td>19.300623</td>\n",
       "      <td>22.221789</td>\n",
       "      <td>25.731167</td>\n",
       "    </tr>\n",
       "    <tr>\n",
       "      <th>5</th>\n",
       "      <td>52.624250</td>\n",
       "      <td>39.937358</td>\n",
       "      <td>20.323520</td>\n",
       "      <td>32.489405</td>\n",
       "      <td>35.128505</td>\n",
       "      <td>33.907120</td>\n",
       "    </tr>\n",
       "    <tr>\n",
       "      <th>6</th>\n",
       "      <td>19.434750</td>\n",
       "      <td>28.239522</td>\n",
       "      <td>18.838430</td>\n",
       "      <td>20.578908</td>\n",
       "      <td>29.193240</td>\n",
       "      <td>35.295602</td>\n",
       "    </tr>\n",
       "    <tr>\n",
       "      <th>7</th>\n",
       "      <td>7.727750</td>\n",
       "      <td>15.869989</td>\n",
       "      <td>10.880540</td>\n",
       "      <td>9.757957</td>\n",
       "      <td>14.036068</td>\n",
       "      <td>12.051350</td>\n",
       "    </tr>\n",
       "    <tr>\n",
       "      <th>8</th>\n",
       "      <td>33.998750</td>\n",
       "      <td>35.021875</td>\n",
       "      <td>18.127180</td>\n",
       "      <td>21.945826</td>\n",
       "      <td>31.334396</td>\n",
       "      <td>29.040180</td>\n",
       "    </tr>\n",
       "    <tr>\n",
       "      <th>9</th>\n",
       "      <td>21.207500</td>\n",
       "      <td>13.991262</td>\n",
       "      <td>8.857340</td>\n",
       "      <td>10.725183</td>\n",
       "      <td>14.041252</td>\n",
       "      <td>13.767990</td>\n",
       "    </tr>\n",
       "  </tbody>\n",
       "</table>\n",
       "</div>"
      ],
      "text/plain": [
       "   scalerCart   scalerEN  scalerKnn   scalerLR  scalerLasso  scalerSVR\n",
       "0   15.306341  16.678748   7.565171   9.792428    18.336109  13.087798\n",
       "1   10.720244  28.079391  20.576312  27.986760    29.913574  25.925457\n",
       "2   30.931951  48.697710  53.359141  39.573100    43.551237  73.942360\n",
       "3   42.475366  29.873924  26.207980  21.648367    28.316966  33.581832\n",
       "4   27.059250  22.933943  16.340590  19.300623    22.221789  25.731167\n",
       "5   52.624250  39.937358  20.323520  32.489405    35.128505  33.907120\n",
       "6   19.434750  28.239522  18.838430  20.578908    29.193240  35.295602\n",
       "7    7.727750  15.869989  10.880540   9.757957    14.036068  12.051350\n",
       "8   33.998750  35.021875  18.127180  21.945826    31.334396  29.040180\n",
       "9   21.207500  13.991262   8.857340  10.725183    14.041252  13.767990"
      ]
     },
     "execution_count": 93,
     "metadata": {},
     "output_type": "execute_result"
    }
   ],
   "source": [
    "res_df"
   ]
  },
  {
   "cell_type": "code",
   "execution_count": 94,
   "metadata": {},
   "outputs": [
    {
     "data": {
      "application/vnd.plotly.v1+json": {
       "data": [
        {
         "boxpoints": false,
         "line": {
          "width": 1.3
         },
         "marker": {
          "color": "rgba(255, 153, 51, 1.0)"
         },
         "name": "scalerCart",
         "type": "box",
         "y": [
          15.306341463414633,
          10.720243902439027,
          30.931951219512197,
          42.47536585365854,
          27.05925,
          52.624249999999996,
          19.434749999999998,
          7.727749999999999,
          33.998749999999994,
          21.207500000000003
         ]
        },
        {
         "boxpoints": false,
         "line": {
          "width": 1.3
         },
         "marker": {
          "color": "rgba(55, 128, 191, 1.0)"
         },
         "name": "scalerEN",
         "type": "box",
         "y": [
          16.678747800486363,
          28.07939126922665,
          48.69770958795591,
          29.873924185761762,
          22.933942809462977,
          39.93735777090334,
          28.239522310704842,
          15.869988923418907,
          35.021874975769165,
          13.99126194766525
         ]
        },
        {
         "boxpoints": false,
         "line": {
          "width": 1.3
         },
         "marker": {
          "color": "rgba(50, 171, 96, 1.0)"
         },
         "name": "scalerKnn",
         "type": "box",
         "y": [
          7.565170731707314,
          20.576312195121957,
          53.35914146341463,
          26.20798048780487,
          16.340590000000002,
          20.32352,
          18.838429999999992,
          10.880540000000007,
          18.127179999999992,
          8.857340000000002
         ]
        },
        {
         "boxpoints": false,
         "line": {
          "width": 1.3
         },
         "marker": {
          "color": "rgba(128, 0, 128, 1.0)"
         },
         "name": "scalerLR",
         "type": "box",
         "y": [
          9.792427842457226,
          27.9867596291348,
          39.57310026486634,
          21.64836669901373,
          19.300623022274195,
          32.48940460100016,
          20.57890816278189,
          9.75795740529627,
          21.945826484237806,
          10.725183155723219
         ]
        },
        {
         "boxpoints": false,
         "line": {
          "width": 1.3
         },
         "marker": {
          "color": "rgba(219, 64, 82, 1.0)"
         },
         "name": "scalerLasso",
         "type": "box",
         "y": [
          18.336108980270964,
          29.913573732031125,
          43.5512368461043,
          28.316965743821395,
          22.221789436703226,
          35.12850484363044,
          29.193239913588247,
          14.036068482486721,
          31.33439563880767,
          14.041251959322011
         ]
        },
        {
         "boxpoints": false,
         "line": {
          "width": 1.3
         },
         "marker": {
          "color": "rgba(0, 128, 128, 1.0)"
         },
         "name": "scalerSVR",
         "type": "box",
         "y": [
          13.087797631454928,
          25.925457126151937,
          73.94235978906079,
          33.58183242280755,
          25.731166912907476,
          33.90711951508008,
          35.2956017474568,
          12.051349607790415,
          29.04018018557098,
          13.7679900647512
         ]
        }
       ],
       "layout": {
        "legend": {
         "bgcolor": "#F5F6F9",
         "font": {
          "color": "#4D5663"
         }
        },
        "paper_bgcolor": "#F5F6F9",
        "plot_bgcolor": "#F5F6F9",
        "titlefont": {
         "color": "#4D5663"
        },
        "xaxis1": {
         "gridcolor": "#E1E5ED",
         "showgrid": true,
         "tickfont": {
          "color": "#4D5663"
         },
         "title": "",
         "titlefont": {
          "color": "#4D5663"
         },
         "zerolinecolor": "#E1E5ED"
        },
        "yaxis1": {
         "gridcolor": "#E1E5ED",
         "showgrid": true,
         "tickfont": {
          "color": "#4D5663"
         },
         "title": "",
         "titlefont": {
          "color": "#4D5663"
         },
         "zerolinecolor": "#E1E5ED"
        }
       }
      },
      "text/html": [
       "<div id=\"bb724d05-7d18-473c-ac81-715f6c2c6179\" style=\"height: 525px; width: 100%;\" class=\"plotly-graph-div\"></div><script type=\"text/javascript\">require([\"plotly\"], function(Plotly) { window.PLOTLYENV=window.PLOTLYENV || {};window.PLOTLYENV.BASE_URL=\"https://plot.ly\";Plotly.newPlot(\"bb724d05-7d18-473c-ac81-715f6c2c6179\", [{\"type\": \"box\", \"y\": [15.306341463414633, 10.720243902439027, 30.931951219512197, 42.47536585365854, 27.05925, 52.624249999999996, 19.434749999999998, 7.727749999999999, 33.998749999999994, 21.207500000000003], \"marker\": {\"color\": \"rgba(255, 153, 51, 1.0)\"}, \"name\": \"scalerCart\", \"line\": {\"width\": 1.3}, \"boxpoints\": false}, {\"type\": \"box\", \"y\": [16.678747800486363, 28.07939126922665, 48.69770958795591, 29.873924185761762, 22.933942809462977, 39.93735777090334, 28.239522310704842, 15.869988923418907, 35.021874975769165, 13.99126194766525], \"marker\": {\"color\": \"rgba(55, 128, 191, 1.0)\"}, \"name\": \"scalerEN\", \"line\": {\"width\": 1.3}, \"boxpoints\": false}, {\"type\": \"box\", \"y\": [7.565170731707314, 20.576312195121957, 53.35914146341463, 26.20798048780487, 16.340590000000002, 20.32352, 18.838429999999992, 10.880540000000007, 18.127179999999992, 8.857340000000002], \"marker\": {\"color\": \"rgba(50, 171, 96, 1.0)\"}, \"name\": \"scalerKnn\", \"line\": {\"width\": 1.3}, \"boxpoints\": false}, {\"type\": \"box\", \"y\": [9.792427842457226, 27.9867596291348, 39.57310026486634, 21.64836669901373, 19.300623022274195, 32.48940460100016, 20.57890816278189, 9.75795740529627, 21.945826484237806, 10.725183155723219], \"marker\": {\"color\": \"rgba(128, 0, 128, 1.0)\"}, \"name\": \"scalerLR\", \"line\": {\"width\": 1.3}, \"boxpoints\": false}, {\"type\": \"box\", \"y\": [18.336108980270964, 29.913573732031125, 43.5512368461043, 28.316965743821395, 22.221789436703226, 35.12850484363044, 29.193239913588247, 14.036068482486721, 31.33439563880767, 14.041251959322011], \"marker\": {\"color\": \"rgba(219, 64, 82, 1.0)\"}, \"name\": \"scalerLasso\", \"line\": {\"width\": 1.3}, \"boxpoints\": false}, {\"type\": \"box\", \"y\": [13.087797631454928, 25.925457126151937, 73.94235978906079, 33.58183242280755, 25.731166912907476, 33.90711951508008, 35.2956017474568, 12.051349607790415, 29.04018018557098, 13.7679900647512], \"marker\": {\"color\": \"rgba(0, 128, 128, 1.0)\"}, \"name\": \"scalerSVR\", \"line\": {\"width\": 1.3}, \"boxpoints\": false}], {\"legend\": {\"bgcolor\": \"#F5F6F9\", \"font\": {\"color\": \"#4D5663\"}}, \"paper_bgcolor\": \"#F5F6F9\", \"plot_bgcolor\": \"#F5F6F9\", \"yaxis1\": {\"tickfont\": {\"color\": \"#4D5663\"}, \"gridcolor\": \"#E1E5ED\", \"titlefont\": {\"color\": \"#4D5663\"}, \"zerolinecolor\": \"#E1E5ED\", \"showgrid\": true, \"title\": \"\"}, \"xaxis1\": {\"tickfont\": {\"color\": \"#4D5663\"}, \"gridcolor\": \"#E1E5ED\", \"titlefont\": {\"color\": \"#4D5663\"}, \"zerolinecolor\": \"#E1E5ED\", \"showgrid\": true, \"title\": \"\"}, \"titlefont\": {\"color\": \"#4D5663\"}}, {\"showLink\": true, \"linkText\": \"Export to plot.ly\"})});</script>"
      ],
      "text/vnd.plotly.v1+html": [
       "<div id=\"bb724d05-7d18-473c-ac81-715f6c2c6179\" style=\"height: 525px; width: 100%;\" class=\"plotly-graph-div\"></div><script type=\"text/javascript\">require([\"plotly\"], function(Plotly) { window.PLOTLYENV=window.PLOTLYENV || {};window.PLOTLYENV.BASE_URL=\"https://plot.ly\";Plotly.newPlot(\"bb724d05-7d18-473c-ac81-715f6c2c6179\", [{\"type\": \"box\", \"y\": [15.306341463414633, 10.720243902439027, 30.931951219512197, 42.47536585365854, 27.05925, 52.624249999999996, 19.434749999999998, 7.727749999999999, 33.998749999999994, 21.207500000000003], \"marker\": {\"color\": \"rgba(255, 153, 51, 1.0)\"}, \"name\": \"scalerCart\", \"line\": {\"width\": 1.3}, \"boxpoints\": false}, {\"type\": \"box\", \"y\": [16.678747800486363, 28.07939126922665, 48.69770958795591, 29.873924185761762, 22.933942809462977, 39.93735777090334, 28.239522310704842, 15.869988923418907, 35.021874975769165, 13.99126194766525], \"marker\": {\"color\": \"rgba(55, 128, 191, 1.0)\"}, \"name\": \"scalerEN\", \"line\": {\"width\": 1.3}, \"boxpoints\": false}, {\"type\": \"box\", \"y\": [7.565170731707314, 20.576312195121957, 53.35914146341463, 26.20798048780487, 16.340590000000002, 20.32352, 18.838429999999992, 10.880540000000007, 18.127179999999992, 8.857340000000002], \"marker\": {\"color\": \"rgba(50, 171, 96, 1.0)\"}, \"name\": \"scalerKnn\", \"line\": {\"width\": 1.3}, \"boxpoints\": false}, {\"type\": \"box\", \"y\": [9.792427842457226, 27.9867596291348, 39.57310026486634, 21.64836669901373, 19.300623022274195, 32.48940460100016, 20.57890816278189, 9.75795740529627, 21.945826484237806, 10.725183155723219], \"marker\": {\"color\": \"rgba(128, 0, 128, 1.0)\"}, \"name\": \"scalerLR\", \"line\": {\"width\": 1.3}, \"boxpoints\": false}, {\"type\": \"box\", \"y\": [18.336108980270964, 29.913573732031125, 43.5512368461043, 28.316965743821395, 22.221789436703226, 35.12850484363044, 29.193239913588247, 14.036068482486721, 31.33439563880767, 14.041251959322011], \"marker\": {\"color\": \"rgba(219, 64, 82, 1.0)\"}, \"name\": \"scalerLasso\", \"line\": {\"width\": 1.3}, \"boxpoints\": false}, {\"type\": \"box\", \"y\": [13.087797631454928, 25.925457126151937, 73.94235978906079, 33.58183242280755, 25.731166912907476, 33.90711951508008, 35.2956017474568, 12.051349607790415, 29.04018018557098, 13.7679900647512], \"marker\": {\"color\": \"rgba(0, 128, 128, 1.0)\"}, \"name\": \"scalerSVR\", \"line\": {\"width\": 1.3}, \"boxpoints\": false}], {\"legend\": {\"bgcolor\": \"#F5F6F9\", \"font\": {\"color\": \"#4D5663\"}}, \"paper_bgcolor\": \"#F5F6F9\", \"plot_bgcolor\": \"#F5F6F9\", \"yaxis1\": {\"tickfont\": {\"color\": \"#4D5663\"}, \"gridcolor\": \"#E1E5ED\", \"titlefont\": {\"color\": \"#4D5663\"}, \"zerolinecolor\": \"#E1E5ED\", \"showgrid\": true, \"title\": \"\"}, \"xaxis1\": {\"tickfont\": {\"color\": \"#4D5663\"}, \"gridcolor\": \"#E1E5ED\", \"titlefont\": {\"color\": \"#4D5663\"}, \"zerolinecolor\": \"#E1E5ED\", \"showgrid\": true, \"title\": \"\"}, \"titlefont\": {\"color\": \"#4D5663\"}}, {\"showLink\": true, \"linkText\": \"Export to plot.ly\"})});</script>"
      ]
     },
     "metadata": {},
     "output_type": "display_data"
    }
   ],
   "source": [
    "res_df.iplot(kind='box')"
   ]
  },
  {
   "cell_type": "markdown",
   "metadata": {},
   "source": [
    "We can see that KNN has both a tight distribution of error and has the lowest score."
   ]
  },
  {
   "cell_type": "markdown",
   "metadata": {},
   "source": [
    "# Improve Results With Tuning"
   ]
  },
  {
   "cell_type": "markdown",
   "metadata": {},
   "source": [
    "We know from the results in the previous section that KNN achieves good results on a scaled\n",
    "version of the dataset. But can it do better. The default value for the number of neighbors in\n",
    "KNN is 7. We can use a grid search to try a set of di\u000b",
    "erent numbers of neighbors and see if we\n",
    "can improve the score."
   ]
  },
  {
   "cell_type": "code",
   "execution_count": 97,
   "metadata": {},
   "outputs": [],
   "source": [
    "scalar = StandardScaler().fit(X_train)\n",
    "rescaledX = scalar.transform(X_train)\n",
    "\n",
    "param_grid = dict(n_neighbors=range(1,22))\n",
    "\n",
    "mdl = KNeighborsRegressor()\n",
    "grid = GridSearchCV(estimator=mdl,param_grid=param_grid,scoring=scoring,cv=kfold)\n",
    "\n",
    "grid_res = grid.fit(rescaledX,Y_train)"
   ]
  },
  {
   "cell_type": "code",
   "execution_count": 98,
   "metadata": {},
   "outputs": [
    {
     "data": {
      "text/plain": [
       "{'n_neighbors': 3}"
      ]
     },
     "execution_count": 98,
     "metadata": {},
     "output_type": "execute_result"
    }
   ],
   "source": [
    "grid_res.best_params_"
   ]
  },
  {
   "cell_type": "code",
   "execution_count": 99,
   "metadata": {},
   "outputs": [
    {
     "data": {
      "text/plain": [
       "-18.172136963696367"
      ]
     },
     "execution_count": 99,
     "metadata": {},
     "output_type": "execute_result"
    }
   ],
   "source": [
    "grid_res.best_score_"
   ]
  },
  {
   "cell_type": "code",
   "execution_count": 101,
   "metadata": {},
   "outputs": [],
   "source": [
    "means = grid_res.cv_results_['mean_test_score']\n",
    "stds = grid_res.cv_results_['std_test_score']\n",
    "params = range(1,22)"
   ]
  },
  {
   "cell_type": "code",
   "execution_count": 102,
   "metadata": {
    "collapsed": true
   },
   "outputs": [],
   "source": [
    "vwe = pd.DataFrame(list(zip(means,stds,params)), columns=['Mean','std','parameter'])"
   ]
  },
  {
   "cell_type": "code",
   "execution_count": 104,
   "metadata": {},
   "outputs": [],
   "source": [
    "vwe.Mean = vwe.Mean.apply(np.abs)"
   ]
  },
  {
   "cell_type": "code",
   "execution_count": 108,
   "metadata": {},
   "outputs": [
    {
     "data": {
      "application/vnd.plotly.v1+json": {
       "data": [
        {
         "line": {
          "color": "rgba(255, 153, 51, 1.0)",
          "dash": "solid",
          "width": 1.3
         },
         "mode": "lines",
         "name": "Mean",
         "text": "",
         "type": "scatter",
         "x": [
          1,
          2,
          3,
          4,
          5,
          6,
          7,
          8,
          9,
          10,
          11,
          12,
          13,
          14,
          15,
          16,
          17,
          18,
          19,
          20,
          21
         ],
         "y": [
          20.208663366336634,
          19.11798886138614,
          18.172136963696367,
          19.907448948019802,
          20.131163366336633,
          20.584602585258526,
          20.575845120226305,
          20.24531714108911,
          20.368263659699302,
          20.75322722772277,
          21.009204238605676,
          20.944432411991198,
          21.15180854180092,
          21.482222292382296,
          21.557399669966998,
          22.3262109375,
          22.789938161636233,
          23.407050712015646,
          23.871872960149197,
          24.231038799504955,
          24.361362115803416
         ]
        }
       ],
       "layout": {
        "legend": {
         "bgcolor": "#F5F6F9",
         "font": {
          "color": "#4D5663"
         }
        },
        "paper_bgcolor": "#F5F6F9",
        "plot_bgcolor": "#F5F6F9",
        "titlefont": {
         "color": "#4D5663"
        },
        "xaxis1": {
         "gridcolor": "#E1E5ED",
         "showgrid": true,
         "tickfont": {
          "color": "#4D5663"
         },
         "title": "",
         "titlefont": {
          "color": "#4D5663"
         },
         "zerolinecolor": "#E1E5ED"
        },
        "yaxis1": {
         "gridcolor": "#E1E5ED",
         "showgrid": true,
         "tickfont": {
          "color": "#4D5663"
         },
         "title": "",
         "titlefont": {
          "color": "#4D5663"
         },
         "zerolinecolor": "#E1E5ED"
        }
       }
      },
      "text/html": [
       "<div id=\"34bc3ff7-8f97-48bd-b798-a74e4daabd92\" style=\"height: 525px; width: 100%;\" class=\"plotly-graph-div\"></div><script type=\"text/javascript\">require([\"plotly\"], function(Plotly) { window.PLOTLYENV=window.PLOTLYENV || {};window.PLOTLYENV.BASE_URL=\"https://plot.ly\";Plotly.newPlot(\"34bc3ff7-8f97-48bd-b798-a74e4daabd92\", [{\"type\": \"scatter\", \"x\": [1, 2, 3, 4, 5, 6, 7, 8, 9, 10, 11, 12, 13, 14, 15, 16, 17, 18, 19, 20, 21], \"y\": [20.208663366336634, 19.11798886138614, 18.172136963696367, 19.907448948019802, 20.131163366336633, 20.584602585258526, 20.575845120226305, 20.24531714108911, 20.368263659699302, 20.75322722772277, 21.009204238605676, 20.944432411991198, 21.15180854180092, 21.482222292382296, 21.557399669966998, 22.3262109375, 22.789938161636233, 23.407050712015646, 23.871872960149197, 24.231038799504955, 24.361362115803416], \"name\": \"Mean\", \"text\": \"\", \"line\": {\"color\": \"rgba(255, 153, 51, 1.0)\", \"width\": 1.3, \"dash\": \"solid\"}, \"mode\": \"lines\"}], {\"legend\": {\"bgcolor\": \"#F5F6F9\", \"font\": {\"color\": \"#4D5663\"}}, \"paper_bgcolor\": \"#F5F6F9\", \"plot_bgcolor\": \"#F5F6F9\", \"yaxis1\": {\"tickfont\": {\"color\": \"#4D5663\"}, \"gridcolor\": \"#E1E5ED\", \"titlefont\": {\"color\": \"#4D5663\"}, \"zerolinecolor\": \"#E1E5ED\", \"showgrid\": true, \"title\": \"\"}, \"xaxis1\": {\"tickfont\": {\"color\": \"#4D5663\"}, \"gridcolor\": \"#E1E5ED\", \"titlefont\": {\"color\": \"#4D5663\"}, \"zerolinecolor\": \"#E1E5ED\", \"showgrid\": true, \"title\": \"\"}, \"titlefont\": {\"color\": \"#4D5663\"}}, {\"showLink\": true, \"linkText\": \"Export to plot.ly\"})});</script>"
      ],
      "text/vnd.plotly.v1+html": [
       "<div id=\"34bc3ff7-8f97-48bd-b798-a74e4daabd92\" style=\"height: 525px; width: 100%;\" class=\"plotly-graph-div\"></div><script type=\"text/javascript\">require([\"plotly\"], function(Plotly) { window.PLOTLYENV=window.PLOTLYENV || {};window.PLOTLYENV.BASE_URL=\"https://plot.ly\";Plotly.newPlot(\"34bc3ff7-8f97-48bd-b798-a74e4daabd92\", [{\"type\": \"scatter\", \"x\": [1, 2, 3, 4, 5, 6, 7, 8, 9, 10, 11, 12, 13, 14, 15, 16, 17, 18, 19, 20, 21], \"y\": [20.208663366336634, 19.11798886138614, 18.172136963696367, 19.907448948019802, 20.131163366336633, 20.584602585258526, 20.575845120226305, 20.24531714108911, 20.368263659699302, 20.75322722772277, 21.009204238605676, 20.944432411991198, 21.15180854180092, 21.482222292382296, 21.557399669966998, 22.3262109375, 22.789938161636233, 23.407050712015646, 23.871872960149197, 24.231038799504955, 24.361362115803416], \"name\": \"Mean\", \"text\": \"\", \"line\": {\"color\": \"rgba(255, 153, 51, 1.0)\", \"width\": 1.3, \"dash\": \"solid\"}, \"mode\": \"lines\"}], {\"legend\": {\"bgcolor\": \"#F5F6F9\", \"font\": {\"color\": \"#4D5663\"}}, \"paper_bgcolor\": \"#F5F6F9\", \"plot_bgcolor\": \"#F5F6F9\", \"yaxis1\": {\"tickfont\": {\"color\": \"#4D5663\"}, \"gridcolor\": \"#E1E5ED\", \"titlefont\": {\"color\": \"#4D5663\"}, \"zerolinecolor\": \"#E1E5ED\", \"showgrid\": true, \"title\": \"\"}, \"xaxis1\": {\"tickfont\": {\"color\": \"#4D5663\"}, \"gridcolor\": \"#E1E5ED\", \"titlefont\": {\"color\": \"#4D5663\"}, \"zerolinecolor\": \"#E1E5ED\", \"showgrid\": true, \"title\": \"\"}, \"titlefont\": {\"color\": \"#4D5663\"}}, {\"showLink\": true, \"linkText\": \"Export to plot.ly\"})});</script>"
      ]
     },
     "metadata": {},
     "output_type": "display_data"
    }
   ],
   "source": [
    "vwe.iplot(kind='line',x='parameter',y='Mean')"
   ]
  },
  {
   "cell_type": "markdown",
   "metadata": {},
   "source": [
    "# Ensemble Methods\n",
    "Another way that we can improve the performance of algorithms on this problem is by using\n",
    "ensemble methods. In this section we will evaluate four different ensemble machine learning\n",
    "algorithms, two boosting and two bagging methods:\n",
    "\n",
    "- Boosting Methods: AdaBoost (AB) and Gradient Boosting (XGBoost).\n",
    "- Bagging Methods: Random Forests (RF) and Extra Trees (ET).\n"
   ]
  },
  {
   "cell_type": "code",
   "execution_count": 109,
   "metadata": {
    "collapsed": true
   },
   "outputs": [],
   "source": [
    "from xgboost import XGBRegressor"
   ]
  },
  {
   "cell_type": "code",
   "execution_count": 117,
   "metadata": {
    "collapsed": true
   },
   "outputs": [],
   "source": [
    "ensembles = [('scaledAB',Pipeline([('scaler',StandardScaler()),('AB',AdaBoostRegressor())])),\n",
    "            ('scaledXG',Pipeline([('scaler',StandardScaler()),('XG',XGBRegressor())])),\n",
    "            ('scaledGBM',Pipeline([('scaler',StandardScaler()),('GB',GradientBoostingRegressor())])),\n",
    "            ('scaledRF',Pipeline([('scaler',StandardScaler()),('RF',RandomForestRegressor())])),\n",
    "            ('scaledET',Pipeline([('scaler',StandardScaler()),('ET',ExtraTreesRegressor())]))]"
   ]
  },
  {
   "cell_type": "code",
   "execution_count": 118,
   "metadata": {
    "collapsed": true
   },
   "outputs": [],
   "source": [
    "results1 = []\n",
    "names1 = []\n",
    "means1 = []\n",
    "stds1 = []"
   ]
  },
  {
   "cell_type": "code",
   "execution_count": 119,
   "metadata": {
    "collapsed": true
   },
   "outputs": [],
   "source": [
    "for name, model in ensembles:\n",
    "    kfold = KFold(n_splits=num_folds, random_state=seed)\n",
    "    cv_results = cross_val_score(model,X_train,Y_train,scoring=scoring,cv=kfold)\n",
    "    \n",
    "    results1.append(np.abs(cv_results))\n",
    "    names1.append(name)\n",
    "    means1.append(np.abs(cv_results.mean()))\n",
    "    stds1.append(cv_results.std())"
   ]
  },
  {
   "cell_type": "code",
   "execution_count": 120,
   "metadata": {
    "collapsed": true
   },
   "outputs": [],
   "source": [
    "sf = pd.DataFrame(list(zip(names1,means1,stds1)),columns=['est','mean','std'])"
   ]
  },
  {
   "cell_type": "code",
   "execution_count": 121,
   "metadata": {},
   "outputs": [
    {
     "data": {
      "text/html": [
       "<div>\n",
       "<style>\n",
       "    .dataframe thead tr:only-child th {\n",
       "        text-align: right;\n",
       "    }\n",
       "\n",
       "    .dataframe thead th {\n",
       "        text-align: left;\n",
       "    }\n",
       "\n",
       "    .dataframe tbody tr th {\n",
       "        vertical-align: top;\n",
       "    }\n",
       "</style>\n",
       "<table border=\"1\" class=\"dataframe\">\n",
       "  <thead>\n",
       "    <tr style=\"text-align: right;\">\n",
       "      <th></th>\n",
       "      <th>est</th>\n",
       "      <th>mean</th>\n",
       "      <th>std</th>\n",
       "    </tr>\n",
       "  </thead>\n",
       "  <tbody>\n",
       "    <tr>\n",
       "      <th>4</th>\n",
       "      <td>scaledET</td>\n",
       "      <td>10.192805</td>\n",
       "      <td>6.585063</td>\n",
       "    </tr>\n",
       "    <tr>\n",
       "      <th>2</th>\n",
       "      <td>scaledGBM</td>\n",
       "      <td>10.241214</td>\n",
       "      <td>4.508736</td>\n",
       "    </tr>\n",
       "    <tr>\n",
       "      <th>1</th>\n",
       "      <td>scaledXG</td>\n",
       "      <td>11.300129</td>\n",
       "      <td>5.930166</td>\n",
       "    </tr>\n",
       "    <tr>\n",
       "      <th>3</th>\n",
       "      <td>scaledRF</td>\n",
       "      <td>14.066970</td>\n",
       "      <td>8.356362</td>\n",
       "    </tr>\n",
       "    <tr>\n",
       "      <th>0</th>\n",
       "      <td>scaledAB</td>\n",
       "      <td>15.419169</td>\n",
       "      <td>6.952239</td>\n",
       "    </tr>\n",
       "  </tbody>\n",
       "</table>\n",
       "</div>"
      ],
      "text/plain": [
       "         est       mean       std\n",
       "4   scaledET  10.192805  6.585063\n",
       "2  scaledGBM  10.241214  4.508736\n",
       "1   scaledXG  11.300129  5.930166\n",
       "3   scaledRF  14.066970  8.356362\n",
       "0   scaledAB  15.419169  6.952239"
      ]
     },
     "execution_count": 121,
     "metadata": {},
     "output_type": "execute_result"
    }
   ],
   "source": [
    "sf.sort_values('mean')"
   ]
  },
  {
   "cell_type": "code",
   "execution_count": 123,
   "metadata": {},
   "outputs": [],
   "source": [
    "sg = pd.DataFrame(dict(zip(names1,results1)))"
   ]
  },
  {
   "cell_type": "code",
   "execution_count": 125,
   "metadata": {},
   "outputs": [
    {
     "data": {
      "application/vnd.plotly.v1+json": {
       "data": [
        {
         "boxpoints": false,
         "line": {
          "width": 1.3
         },
         "marker": {
          "color": "rgba(255, 153, 51, 1.0)"
         },
         "name": "scaledAB",
         "type": "box",
         "y": [
          11.201516779358451,
          13.034606983891965,
          30.54337301631341,
          24.20415150440133,
          10.082672366211922,
          18.07412835644692,
          17.71477548338339,
          6.416620429980007,
          10.847479924782064,
          12.072365332926864
         ]
        },
        {
         "boxpoints": false,
         "line": {
          "width": 1.3
         },
         "marker": {
          "color": "rgba(55, 128, 191, 1.0)"
         },
         "name": "scaledET",
         "type": "box",
         "y": [
          5.965285365853656,
          5.658019512195122,
          28.409892682926834,
          13.70567804878049,
          7.951705000000001,
          9.661344999999995,
          9.482027500000004,
          4.359992499999996,
          9.865900000000005,
          6.868199999999999
         ]
        },
        {
         "boxpoints": false,
         "line": {
          "width": 1.3
         },
         "marker": {
          "color": "rgba(50, 171, 96, 1.0)"
         },
         "name": "scaledGBM",
         "type": "box",
         "y": [
          5.599529106651557,
          8.762984783551044,
          19.52399471685344,
          13.701456984782364,
          7.604618548070111,
          12.152973025321797,
          12.247308272112658,
          3.414898621971505,
          12.832902883245874,
          6.571474401273539
         ]
        },
        {
         "boxpoints": false,
         "line": {
          "width": 1.3
         },
         "marker": {
          "color": "rgba(128, 0, 128, 1.0)"
         },
         "name": "scaledRF",
         "type": "box",
         "y": [
          9.583148780487809,
          8.832363414634147,
          29.40834146341463,
          24.030912195121953,
          13.466127499999999,
          24.785732499999988,
          11.768022499999999,
          3.4942925000000002,
          8.510424999999998,
          6.7903325
         ]
        },
        {
         "boxpoints": false,
         "line": {
          "width": 1.3
         },
         "marker": {
          "color": "rgba(219, 64, 82, 1.0)"
         },
         "name": "scaledXG",
         "type": "box",
         "y": [
          5.084796727974646,
          9.35363679752542,
          21.36436866385683,
          22.30215973015546,
          7.221602872734661,
          12.76252869707509,
          12.291649774120515,
          3.6552498140187515,
          10.509567105421834,
          8.455727073306871
         ]
        }
       ],
       "layout": {
        "legend": {
         "bgcolor": "#F5F6F9",
         "font": {
          "color": "#4D5663"
         }
        },
        "paper_bgcolor": "#F5F6F9",
        "plot_bgcolor": "#F5F6F9",
        "titlefont": {
         "color": "#4D5663"
        },
        "xaxis1": {
         "gridcolor": "#E1E5ED",
         "showgrid": true,
         "tickfont": {
          "color": "#4D5663"
         },
         "title": "",
         "titlefont": {
          "color": "#4D5663"
         },
         "zerolinecolor": "#E1E5ED"
        },
        "yaxis1": {
         "gridcolor": "#E1E5ED",
         "showgrid": true,
         "tickfont": {
          "color": "#4D5663"
         },
         "title": "",
         "titlefont": {
          "color": "#4D5663"
         },
         "zerolinecolor": "#E1E5ED"
        }
       }
      },
      "text/html": [
       "<div id=\"59560bb9-1f88-4d12-b3d0-e4d223ea3bd5\" style=\"height: 525px; width: 100%;\" class=\"plotly-graph-div\"></div><script type=\"text/javascript\">require([\"plotly\"], function(Plotly) { window.PLOTLYENV=window.PLOTLYENV || {};window.PLOTLYENV.BASE_URL=\"https://plot.ly\";Plotly.newPlot(\"59560bb9-1f88-4d12-b3d0-e4d223ea3bd5\", [{\"type\": \"box\", \"y\": [11.201516779358451, 13.034606983891965, 30.54337301631341, 24.20415150440133, 10.082672366211922, 18.07412835644692, 17.71477548338339, 6.416620429980007, 10.847479924782064, 12.072365332926864], \"marker\": {\"color\": \"rgba(255, 153, 51, 1.0)\"}, \"name\": \"scaledAB\", \"line\": {\"width\": 1.3}, \"boxpoints\": false}, {\"type\": \"box\", \"y\": [5.965285365853656, 5.658019512195122, 28.409892682926834, 13.70567804878049, 7.951705000000001, 9.661344999999995, 9.482027500000004, 4.359992499999996, 9.865900000000005, 6.868199999999999], \"marker\": {\"color\": \"rgba(55, 128, 191, 1.0)\"}, \"name\": \"scaledET\", \"line\": {\"width\": 1.3}, \"boxpoints\": false}, {\"type\": \"box\", \"y\": [5.599529106651557, 8.762984783551044, 19.52399471685344, 13.701456984782364, 7.604618548070111, 12.152973025321797, 12.247308272112658, 3.414898621971505, 12.832902883245874, 6.571474401273539], \"marker\": {\"color\": \"rgba(50, 171, 96, 1.0)\"}, \"name\": \"scaledGBM\", \"line\": {\"width\": 1.3}, \"boxpoints\": false}, {\"type\": \"box\", \"y\": [9.583148780487809, 8.832363414634147, 29.40834146341463, 24.030912195121953, 13.466127499999999, 24.785732499999988, 11.768022499999999, 3.4942925000000002, 8.510424999999998, 6.7903325], \"marker\": {\"color\": \"rgba(128, 0, 128, 1.0)\"}, \"name\": \"scaledRF\", \"line\": {\"width\": 1.3}, \"boxpoints\": false}, {\"type\": \"box\", \"y\": [5.084796727974646, 9.35363679752542, 21.36436866385683, 22.30215973015546, 7.221602872734661, 12.76252869707509, 12.291649774120515, 3.6552498140187515, 10.509567105421834, 8.455727073306871], \"marker\": {\"color\": \"rgba(219, 64, 82, 1.0)\"}, \"name\": \"scaledXG\", \"line\": {\"width\": 1.3}, \"boxpoints\": false}], {\"legend\": {\"bgcolor\": \"#F5F6F9\", \"font\": {\"color\": \"#4D5663\"}}, \"paper_bgcolor\": \"#F5F6F9\", \"plot_bgcolor\": \"#F5F6F9\", \"yaxis1\": {\"tickfont\": {\"color\": \"#4D5663\"}, \"gridcolor\": \"#E1E5ED\", \"titlefont\": {\"color\": \"#4D5663\"}, \"zerolinecolor\": \"#E1E5ED\", \"showgrid\": true, \"title\": \"\"}, \"xaxis1\": {\"tickfont\": {\"color\": \"#4D5663\"}, \"gridcolor\": \"#E1E5ED\", \"titlefont\": {\"color\": \"#4D5663\"}, \"zerolinecolor\": \"#E1E5ED\", \"showgrid\": true, \"title\": \"\"}, \"titlefont\": {\"color\": \"#4D5663\"}}, {\"showLink\": true, \"linkText\": \"Export to plot.ly\"})});</script>"
      ],
      "text/vnd.plotly.v1+html": [
       "<div id=\"59560bb9-1f88-4d12-b3d0-e4d223ea3bd5\" style=\"height: 525px; width: 100%;\" class=\"plotly-graph-div\"></div><script type=\"text/javascript\">require([\"plotly\"], function(Plotly) { window.PLOTLYENV=window.PLOTLYENV || {};window.PLOTLYENV.BASE_URL=\"https://plot.ly\";Plotly.newPlot(\"59560bb9-1f88-4d12-b3d0-e4d223ea3bd5\", [{\"type\": \"box\", \"y\": [11.201516779358451, 13.034606983891965, 30.54337301631341, 24.20415150440133, 10.082672366211922, 18.07412835644692, 17.71477548338339, 6.416620429980007, 10.847479924782064, 12.072365332926864], \"marker\": {\"color\": \"rgba(255, 153, 51, 1.0)\"}, \"name\": \"scaledAB\", \"line\": {\"width\": 1.3}, \"boxpoints\": false}, {\"type\": \"box\", \"y\": [5.965285365853656, 5.658019512195122, 28.409892682926834, 13.70567804878049, 7.951705000000001, 9.661344999999995, 9.482027500000004, 4.359992499999996, 9.865900000000005, 6.868199999999999], \"marker\": {\"color\": \"rgba(55, 128, 191, 1.0)\"}, \"name\": \"scaledET\", \"line\": {\"width\": 1.3}, \"boxpoints\": false}, {\"type\": \"box\", \"y\": [5.599529106651557, 8.762984783551044, 19.52399471685344, 13.701456984782364, 7.604618548070111, 12.152973025321797, 12.247308272112658, 3.414898621971505, 12.832902883245874, 6.571474401273539], \"marker\": {\"color\": \"rgba(50, 171, 96, 1.0)\"}, \"name\": \"scaledGBM\", \"line\": {\"width\": 1.3}, \"boxpoints\": false}, {\"type\": \"box\", \"y\": [9.583148780487809, 8.832363414634147, 29.40834146341463, 24.030912195121953, 13.466127499999999, 24.785732499999988, 11.768022499999999, 3.4942925000000002, 8.510424999999998, 6.7903325], \"marker\": {\"color\": \"rgba(128, 0, 128, 1.0)\"}, \"name\": \"scaledRF\", \"line\": {\"width\": 1.3}, \"boxpoints\": false}, {\"type\": \"box\", \"y\": [5.084796727974646, 9.35363679752542, 21.36436866385683, 22.30215973015546, 7.221602872734661, 12.76252869707509, 12.291649774120515, 3.6552498140187515, 10.509567105421834, 8.455727073306871], \"marker\": {\"color\": \"rgba(219, 64, 82, 1.0)\"}, \"name\": \"scaledXG\", \"line\": {\"width\": 1.3}, \"boxpoints\": false}], {\"legend\": {\"bgcolor\": \"#F5F6F9\", \"font\": {\"color\": \"#4D5663\"}}, \"paper_bgcolor\": \"#F5F6F9\", \"plot_bgcolor\": \"#F5F6F9\", \"yaxis1\": {\"tickfont\": {\"color\": \"#4D5663\"}, \"gridcolor\": \"#E1E5ED\", \"titlefont\": {\"color\": \"#4D5663\"}, \"zerolinecolor\": \"#E1E5ED\", \"showgrid\": true, \"title\": \"\"}, \"xaxis1\": {\"tickfont\": {\"color\": \"#4D5663\"}, \"gridcolor\": \"#E1E5ED\", \"titlefont\": {\"color\": \"#4D5663\"}, \"zerolinecolor\": \"#E1E5ED\", \"showgrid\": true, \"title\": \"\"}, \"titlefont\": {\"color\": \"#4D5663\"}}, {\"showLink\": true, \"linkText\": \"Export to plot.ly\"})});</script>"
      ]
     },
     "metadata": {},
     "output_type": "display_data"
    }
   ],
   "source": [
    "sg.iplot(kind='box')"
   ]
  },
  {
   "cell_type": "markdown",
   "metadata": {},
   "source": [
    "https://medium.com/@aneesha/svm-parameter-tuning-in-scikit-learn-using-gridsearchcv-2413c02125a0"
   ]
  },
  {
   "cell_type": "markdown",
   "metadata": {},
   "source": [
    "### lets tune ExtraTree & XGBoost"
   ]
  },
  {
   "cell_type": "code",
   "execution_count": 127,
   "metadata": {},
   "outputs": [],
   "source": [
    "#n_estimators=\n",
    "\n",
    "scaler = StandardScaler().fit(X_train)\n",
    "rescaledX = scaler.transform(X_train)"
   ]
  },
  {
   "cell_type": "code",
   "execution_count": 128,
   "metadata": {
    "collapsed": true
   },
   "outputs": [],
   "source": [
    "trees = [5,10,15,20,50,100,200,300,400,500]\n",
    "\n",
    "grid = GridSearchCV(ExtraTreesRegressor(),param_grid={'n_estimators':trees},scoring=scoring,cv=kfold)\n",
    "gd_res = grid.fit(rescaledX, Y_train)"
   ]
  },
  {
   "cell_type": "code",
   "execution_count": 129,
   "metadata": {},
   "outputs": [
    {
     "data": {
      "text/plain": [
       "{'n_estimators': 200}"
      ]
     },
     "execution_count": 129,
     "metadata": {},
     "output_type": "execute_result"
    }
   ],
   "source": [
    "gd_res.best_params_"
   ]
  },
  {
   "cell_type": "code",
   "execution_count": 130,
   "metadata": {
    "collapsed": true
   },
   "outputs": [],
   "source": [
    "means = grid_res.cv_results_['mean_test_score']\n",
    "stds = grid_res.cv_results_['std_test_score']\n",
    "params = trees"
   ]
  },
  {
   "cell_type": "code",
   "execution_count": 133,
   "metadata": {
    "collapsed": true
   },
   "outputs": [],
   "source": [
    "et = pd.DataFrame(list(zip(np.abs(means),stds,params)), columns=['Mean','std','parameter'])"
   ]
  },
  {
   "cell_type": "code",
   "execution_count": 137,
   "metadata": {},
   "outputs": [
    {
     "data": {
      "text/html": [
       "<div>\n",
       "<style>\n",
       "    .dataframe thead tr:only-child th {\n",
       "        text-align: right;\n",
       "    }\n",
       "\n",
       "    .dataframe thead th {\n",
       "        text-align: left;\n",
       "    }\n",
       "\n",
       "    .dataframe tbody tr th {\n",
       "        vertical-align: top;\n",
       "    }\n",
       "</style>\n",
       "<table border=\"1\" class=\"dataframe\">\n",
       "  <thead>\n",
       "    <tr style=\"text-align: right;\">\n",
       "      <th></th>\n",
       "      <th>Mean</th>\n",
       "      <th>std</th>\n",
       "      <th>parameter</th>\n",
       "    </tr>\n",
       "  </thead>\n",
       "  <tbody>\n",
       "    <tr>\n",
       "      <th>2</th>\n",
       "      <td>18.172137</td>\n",
       "      <td>12.950570</td>\n",
       "      <td>15</td>\n",
       "    </tr>\n",
       "    <tr>\n",
       "      <th>1</th>\n",
       "      <td>19.117989</td>\n",
       "      <td>12.815626</td>\n",
       "      <td>10</td>\n",
       "    </tr>\n",
       "    <tr>\n",
       "      <th>3</th>\n",
       "      <td>19.907449</td>\n",
       "      <td>12.812994</td>\n",
       "      <td>20</td>\n",
       "    </tr>\n",
       "    <tr>\n",
       "      <th>4</th>\n",
       "      <td>20.131163</td>\n",
       "      <td>12.203697</td>\n",
       "      <td>50</td>\n",
       "    </tr>\n",
       "    <tr>\n",
       "      <th>0</th>\n",
       "      <td>20.208663</td>\n",
       "      <td>15.029652</td>\n",
       "      <td>5</td>\n",
       "    </tr>\n",
       "    <tr>\n",
       "      <th>7</th>\n",
       "      <td>20.245317</td>\n",
       "      <td>12.101242</td>\n",
       "      <td>300</td>\n",
       "    </tr>\n",
       "    <tr>\n",
       "      <th>8</th>\n",
       "      <td>20.368264</td>\n",
       "      <td>11.621738</td>\n",
       "      <td>400</td>\n",
       "    </tr>\n",
       "    <tr>\n",
       "      <th>6</th>\n",
       "      <td>20.575845</td>\n",
       "      <td>12.345886</td>\n",
       "      <td>200</td>\n",
       "    </tr>\n",
       "    <tr>\n",
       "      <th>5</th>\n",
       "      <td>20.584603</td>\n",
       "      <td>12.289764</td>\n",
       "      <td>100</td>\n",
       "    </tr>\n",
       "    <tr>\n",
       "      <th>9</th>\n",
       "      <td>20.753227</td>\n",
       "      <td>11.651198</td>\n",
       "      <td>500</td>\n",
       "    </tr>\n",
       "  </tbody>\n",
       "</table>\n",
       "</div>"
      ],
      "text/plain": [
       "        Mean        std  parameter\n",
       "2  18.172137  12.950570         15\n",
       "1  19.117989  12.815626         10\n",
       "3  19.907449  12.812994         20\n",
       "4  20.131163  12.203697         50\n",
       "0  20.208663  15.029652          5\n",
       "7  20.245317  12.101242        300\n",
       "8  20.368264  11.621738        400\n",
       "6  20.575845  12.345886        200\n",
       "5  20.584603  12.289764        100\n",
       "9  20.753227  11.651198        500"
      ]
     },
     "execution_count": 137,
     "metadata": {},
     "output_type": "execute_result"
    }
   ],
   "source": [
    "et.sort_values('Mean')"
   ]
  },
  {
   "cell_type": "code",
   "execution_count": 138,
   "metadata": {},
   "outputs": [
    {
     "data": {
      "application/vnd.plotly.v1+json": {
       "data": [
        {
         "line": {
          "color": "rgba(255, 153, 51, 1.0)",
          "dash": "solid",
          "width": 1.3
         },
         "mode": "lines",
         "name": "Mean",
         "text": "",
         "type": "scatter",
         "x": [
          5,
          10,
          15,
          20,
          50,
          100,
          200,
          300,
          400,
          500
         ],
         "y": [
          20.208663366336634,
          19.11798886138614,
          18.172136963696367,
          19.907448948019802,
          20.131163366336633,
          20.584602585258526,
          20.575845120226305,
          20.24531714108911,
          20.368263659699302,
          20.75322722772277
         ]
        }
       ],
       "layout": {
        "legend": {
         "bgcolor": "#F5F6F9",
         "font": {
          "color": "#4D5663"
         }
        },
        "paper_bgcolor": "#F5F6F9",
        "plot_bgcolor": "#F5F6F9",
        "titlefont": {
         "color": "#4D5663"
        },
        "xaxis1": {
         "gridcolor": "#E1E5ED",
         "showgrid": true,
         "tickfont": {
          "color": "#4D5663"
         },
         "title": "",
         "titlefont": {
          "color": "#4D5663"
         },
         "zerolinecolor": "#E1E5ED"
        },
        "yaxis1": {
         "gridcolor": "#E1E5ED",
         "showgrid": true,
         "tickfont": {
          "color": "#4D5663"
         },
         "title": "",
         "titlefont": {
          "color": "#4D5663"
         },
         "zerolinecolor": "#E1E5ED"
        }
       }
      },
      "text/html": [
       "<div id=\"d08eb02c-8ffe-42b3-9ca1-a94b0d885e16\" style=\"height: 525px; width: 100%;\" class=\"plotly-graph-div\"></div><script type=\"text/javascript\">require([\"plotly\"], function(Plotly) { window.PLOTLYENV=window.PLOTLYENV || {};window.PLOTLYENV.BASE_URL=\"https://plot.ly\";Plotly.newPlot(\"d08eb02c-8ffe-42b3-9ca1-a94b0d885e16\", [{\"type\": \"scatter\", \"x\": [5, 10, 15, 20, 50, 100, 200, 300, 400, 500], \"y\": [20.208663366336634, 19.11798886138614, 18.172136963696367, 19.907448948019802, 20.131163366336633, 20.584602585258526, 20.575845120226305, 20.24531714108911, 20.368263659699302, 20.75322722772277], \"name\": \"Mean\", \"text\": \"\", \"line\": {\"color\": \"rgba(255, 153, 51, 1.0)\", \"width\": 1.3, \"dash\": \"solid\"}, \"mode\": \"lines\"}], {\"legend\": {\"bgcolor\": \"#F5F6F9\", \"font\": {\"color\": \"#4D5663\"}}, \"paper_bgcolor\": \"#F5F6F9\", \"plot_bgcolor\": \"#F5F6F9\", \"yaxis1\": {\"tickfont\": {\"color\": \"#4D5663\"}, \"gridcolor\": \"#E1E5ED\", \"titlefont\": {\"color\": \"#4D5663\"}, \"zerolinecolor\": \"#E1E5ED\", \"showgrid\": true, \"title\": \"\"}, \"xaxis1\": {\"tickfont\": {\"color\": \"#4D5663\"}, \"gridcolor\": \"#E1E5ED\", \"titlefont\": {\"color\": \"#4D5663\"}, \"zerolinecolor\": \"#E1E5ED\", \"showgrid\": true, \"title\": \"\"}, \"titlefont\": {\"color\": \"#4D5663\"}}, {\"showLink\": true, \"linkText\": \"Export to plot.ly\"})});</script>"
      ],
      "text/vnd.plotly.v1+html": [
       "<div id=\"d08eb02c-8ffe-42b3-9ca1-a94b0d885e16\" style=\"height: 525px; width: 100%;\" class=\"plotly-graph-div\"></div><script type=\"text/javascript\">require([\"plotly\"], function(Plotly) { window.PLOTLYENV=window.PLOTLYENV || {};window.PLOTLYENV.BASE_URL=\"https://plot.ly\";Plotly.newPlot(\"d08eb02c-8ffe-42b3-9ca1-a94b0d885e16\", [{\"type\": \"scatter\", \"x\": [5, 10, 15, 20, 50, 100, 200, 300, 400, 500], \"y\": [20.208663366336634, 19.11798886138614, 18.172136963696367, 19.907448948019802, 20.131163366336633, 20.584602585258526, 20.575845120226305, 20.24531714108911, 20.368263659699302, 20.75322722772277], \"name\": \"Mean\", \"text\": \"\", \"line\": {\"color\": \"rgba(255, 153, 51, 1.0)\", \"width\": 1.3, \"dash\": \"solid\"}, \"mode\": \"lines\"}], {\"legend\": {\"bgcolor\": \"#F5F6F9\", \"font\": {\"color\": \"#4D5663\"}}, \"paper_bgcolor\": \"#F5F6F9\", \"plot_bgcolor\": \"#F5F6F9\", \"yaxis1\": {\"tickfont\": {\"color\": \"#4D5663\"}, \"gridcolor\": \"#E1E5ED\", \"titlefont\": {\"color\": \"#4D5663\"}, \"zerolinecolor\": \"#E1E5ED\", \"showgrid\": true, \"title\": \"\"}, \"xaxis1\": {\"tickfont\": {\"color\": \"#4D5663\"}, \"gridcolor\": \"#E1E5ED\", \"titlefont\": {\"color\": \"#4D5663\"}, \"zerolinecolor\": \"#E1E5ED\", \"showgrid\": true, \"title\": \"\"}, \"titlefont\": {\"color\": \"#4D5663\"}}, {\"showLink\": true, \"linkText\": \"Export to plot.ly\"})});</script>"
      ]
     },
     "metadata": {},
     "output_type": "display_data"
    }
   ],
   "source": [
    "et.iplot(kind='line',x='parameter',y='Mean')"
   ]
  },
  {
   "cell_type": "markdown",
   "metadata": {},
   "source": [
    "so we'll go with n_estimators =15 (lets not follow gridsearch here)"
   ]
  },
  {
   "cell_type": "markdown",
   "metadata": {},
   "source": [
    "# Now lets tune xgboost"
   ]
  },
  {
   "cell_type": "code",
   "execution_count": 139,
   "metadata": {
    "collapsed": true
   },
   "outputs": [],
   "source": [
    "max_depth = [3,5,7]\n",
    "learning_rate = [0.001,0.05,0.01,0.1,0.15]\n",
    "n_estimators = [50,100,150,200,250]\n",
    "\n",
    "xgrid = GridSearchCV(XGBRegressor(),param_grid={'max_depth':max_depth,\n",
    "                                               'learning_rate':learning_rate,\n",
    "                                               'n_estimators':n_estimators},scoring=scoring,cv=kfold)\n",
    "\n",
    "xgres = xgrid.fit(rescaledX,Y_train)"
   ]
  },
  {
   "cell_type": "code",
   "execution_count": 146,
   "metadata": {},
   "outputs": [
    {
     "name": "stdout",
     "output_type": "stream",
     "text": [
      "{'learning_rate': 0.05, 'max_depth': 5, 'n_estimators': 250}\n",
      "-10.0258106541\n"
     ]
    }
   ],
   "source": [
    "print(xgres.best_params_)\n",
    "print(xgres.best_score_)"
   ]
  },
  {
   "cell_type": "code",
   "execution_count": 142,
   "metadata": {},
   "outputs": [],
   "source": [
    "means = xgres.cv_results_['mean_test_score']\n",
    "stds = xgres.cv_results_['std_test_score']"
   ]
  },
  {
   "cell_type": "markdown",
   "metadata": {},
   "source": [
    "# final test"
   ]
  },
  {
   "cell_type": "code",
   "execution_count": 147,
   "metadata": {},
   "outputs": [
    {
     "data": {
      "text/plain": [
       "array([[-0.40183158,  2.93506248, -1.30897973, ...,  1.66736257,\n",
       "         0.19514907, -0.98968696],\n",
       "       [ 0.17176927, -0.48718289,  1.00484917, ...,  0.83670829,\n",
       "        -1.19245999,  0.50317899],\n",
       "       [-0.40641499, -0.48718289,  2.08387377, ...,  0.32908622,\n",
       "         0.34572894,  0.22111676],\n",
       "       ..., \n",
       "       [-0.31236378, -0.48718289, -0.41860579, ...,  1.20588797,\n",
       "        -0.63895547,  0.51556221],\n",
       "       [-0.40993543,  2.93506248, -1.36471743, ..., -2.67049871,\n",
       "         0.4347445 , -1.19469804],\n",
       "       [-0.40670145, -0.48718289, -1.003137  , ..., -0.82460029,\n",
       "         0.36651838, -1.02270887]])"
      ]
     },
     "execution_count": 147,
     "metadata": {},
     "output_type": "execute_result"
    }
   ],
   "source": [
    "rescaledX"
   ]
  },
  {
   "cell_type": "code",
   "execution_count": 148,
   "metadata": {
    "collapsed": true
   },
   "outputs": [],
   "source": [
    "ETscalar = StandardScaler().fit(X_train)\n",
    "ETrescaleX = ETscalar.transform(X_train)"
   ]
  },
  {
   "cell_type": "code",
   "execution_count": 149,
   "metadata": {
    "collapsed": true
   },
   "outputs": [],
   "source": [
    "model = ExtraTreesRegressor(n_estimators =15)"
   ]
  },
  {
   "cell_type": "code",
   "execution_count": 150,
   "metadata": {},
   "outputs": [
    {
     "data": {
      "text/plain": [
       "ExtraTreesRegressor(bootstrap=False, criterion='mse', max_depth=None,\n",
       "          max_features='auto', max_leaf_nodes=None,\n",
       "          min_impurity_decrease=0.0, min_impurity_split=None,\n",
       "          min_samples_leaf=1, min_samples_split=2,\n",
       "          min_weight_fraction_leaf=0.0, n_estimators=15, n_jobs=1,\n",
       "          oob_score=False, random_state=None, verbose=0, warm_start=False)"
      ]
     },
     "execution_count": 150,
     "metadata": {},
     "output_type": "execute_result"
    }
   ],
   "source": [
    "model.fit(ETrescaleX,Y_train)"
   ]
  },
  {
   "cell_type": "code",
   "execution_count": 151,
   "metadata": {
    "collapsed": true
   },
   "outputs": [],
   "source": [
    "ETestX = ETscalar.transform(X_validation)\n",
    "pred = model.predict(ETestX)"
   ]
  },
  {
   "cell_type": "code",
   "execution_count": 152,
   "metadata": {},
   "outputs": [
    {
     "name": "stdout",
     "output_type": "stream",
     "text": [
      "15.6681891068\n"
     ]
    }
   ],
   "source": [
    "print(mean_squared_error(Y_validation,pred))"
   ]
  },
  {
   "cell_type": "code",
   "execution_count": 154,
   "metadata": {},
   "outputs": [],
   "source": [
    "model = XGBRegressor(learning_rate= 0.05, max_depth= 5, n_estimators= 250)"
   ]
  },
  {
   "cell_type": "code",
   "execution_count": 155,
   "metadata": {},
   "outputs": [
    {
     "data": {
      "text/plain": [
       "XGBRegressor(base_score=0.5, booster='gbtree', colsample_bylevel=1,\n",
       "       colsample_bytree=1, gamma=0, learning_rate=0.05, max_delta_step=0,\n",
       "       max_depth=5, min_child_weight=1, missing=None, n_estimators=250,\n",
       "       n_jobs=1, nthread=None, objective='reg:linear', random_state=0,\n",
       "       reg_alpha=0, reg_lambda=1, scale_pos_weight=1, seed=None,\n",
       "       silent=True, subsample=1)"
      ]
     },
     "execution_count": 155,
     "metadata": {},
     "output_type": "execute_result"
    }
   ],
   "source": [
    "model.fit(ETrescaleX,Y_train)"
   ]
  },
  {
   "cell_type": "code",
   "execution_count": 156,
   "metadata": {
    "collapsed": true
   },
   "outputs": [],
   "source": [
    "pred = model.predict(ETestX)"
   ]
  },
  {
   "cell_type": "code",
   "execution_count": 157,
   "metadata": {},
   "outputs": [
    {
     "name": "stdout",
     "output_type": "stream",
     "text": [
      "12.6987401574\n"
     ]
    }
   ],
   "source": [
    "print(mean_squared_error(Y_validation,pred))"
   ]
  },
  {
   "cell_type": "markdown",
   "metadata": {},
   "source": [
    "# XGBoost is the winner"
   ]
  },
  {
   "cell_type": "code",
   "execution_count": null,
   "metadata": {
    "collapsed": true
   },
   "outputs": [],
   "source": []
  }
 ],
 "metadata": {
  "kernelspec": {
   "display_name": "Python 3",
   "language": "python",
   "name": "python3"
  },
  "language_info": {
   "codemirror_mode": {
    "name": "ipython",
    "version": 3
   },
   "file_extension": ".py",
   "mimetype": "text/x-python",
   "name": "python",
   "nbconvert_exporter": "python",
   "pygments_lexer": "ipython3",
   "version": "3.6.3"
  }
 },
 "nbformat": 4,
 "nbformat_minor": 2
}
